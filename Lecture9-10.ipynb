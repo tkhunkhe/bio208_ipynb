{
 "cells": [
  {
   "cell_type": "markdown",
   "metadata": {},
   "source": [
    "# Lecture 9-10\n",
    "## Regular expression"
   ]
  },
  {
   "cell_type": "code",
   "execution_count": 1,
   "metadata": {
    "collapsed": true
   },
   "outputs": [],
   "source": [
    "import re # regular expression module"
   ]
  },
  {
   "cell_type": "code",
   "execution_count": 8,
   "metadata": {
    "collapsed": false
   },
   "outputs": [
    {
     "name": "stdout",
     "output_type": "stream",
     "text": [
      "restriction fragment found!\n"
     ]
    }
   ],
   "source": [
    "#re.search(arg1,\targ2)\t!\targ1\t=\tpa?ern;\targ2=\tstring\n",
    "dna=\"ATCGCGAATTCAC\"\t\n",
    "if\tre.search(r\"GAATTC\",dna):\n",
    "\tprint(\"restriction fragment found!\")\n",
    "\n",
    "# *even\tthough\tthe\tpattern\tthat\twe\tare\tsearching\tfor\t\n",
    "# does\tnot\tcontain\tany\tspecial\tcharacters,\tit\tis\tstill\t\n",
    "# good\tprogramming\thygiene\tto\tput\tthe\traw\t\n",
    "# notation\t(r)\tin\tfront\t"
   ]
  },
  {
   "cell_type": "code",
   "execution_count": 4,
   "metadata": {
    "collapsed": false
   },
   "outputs": [
    {
     "name": "stdout",
     "output_type": "stream",
     "text": [
      "\\t\\n\n"
     ]
    }
   ],
   "source": [
    "# r stand for raw\n",
    "print(r\"\\t\\n\")"
   ]
  },
  {
   "cell_type": "code",
   "execution_count": 22,
   "metadata": {
    "collapsed": false
   },
   "outputs": [
    {
     "name": "stdout",
     "output_type": "stream",
     "text": [
      "restriction fragment found!\n"
     ]
    }
   ],
   "source": [
    "dna=\"ATCGCGAATTCAC\"\n",
    "if re.search(r\"GAAT\",dna)\tor re.search(r\"GGTCC\",dna):\n",
    "    print(\"restriction fragment found!\")"
   ]
  },
  {
   "cell_type": "code",
   "execution_count": 23,
   "metadata": {
    "collapsed": false
   },
   "outputs": [
    {
     "name": "stdout",
     "output_type": "stream",
     "text": [
      "restriction fragment found!\n"
     ]
    }
   ],
   "source": [
    "dna=\"ATCGCGAATTCAC\"\n",
    "if\tre.search(r\"T(A|T)C\",dna):\n",
    "\tprint(\"restriction fragment found!\")"
   ]
  },
  {
   "cell_type": "code",
   "execution_count": 25,
   "metadata": {
    "collapsed": false
   },
   "outputs": [
    {
     "name": "stdout",
     "output_type": "stream",
     "text": [
      "GACGTAC\n",
      "\n",
      "\n",
      "\\n\n",
      "restriction\tfragment\tfound!\n",
      "restriction\tfragment\tfound!\twith\tOR\tstatement\n",
      "restriction\tfragment\tfound!\twith\t|\tstatement\n",
      "restriction\tfragment\tfound\twith\tcaret\tstatement\n"
     ]
    }
   ],
   "source": [
    "dna=\"ATGACGTACGTACGACTG\"\t\n",
    "#store\tthe\tmatch\tobject\tin\tthe\tvariable\tm\t\n",
    "m=re.search(r\"GA[ATGC]{3}AC\",dna)\t\n",
    "print(m.group())\n",
    "print(\"\\n\")\n",
    "print(r\"\\n\")\n",
    "#a\tstraight\tup\tsearch\twith\tno\tnecessary\tmodifica9ons\t\n",
    "#plain\tol'\tre\tmodule\twith\tsearch\tmethod\t\n",
    "if\tre.search(r\"GACGT\",dna):\t\n",
    "\tprint(\"restriction\tfragment\tfound!\")\n",
    "#we\twant\tto\texpand\tour\tsearch\ta\tbit\tand\tfind\t\n",
    "#either\tof\tthese\ttwo\tpa=erns\tin\tour\tdata\t\n",
    "if\tre.search(r\"GACT\",dna)\tor\tre.search(r\"GACG\",dna):\n",
    "\tprint(\"restriction\tfragment\tfound!\twith\tOR\tstatement\")\t\n",
    "#more\tefficiently\twri9ng\tthis\twith\tthe\tpipe\tcharacter\t\n",
    "if\tre.search(r\"GAC(T|G)\",dna):\n",
    "    print(\"restriction\tfragment\tfound!\twith\t|\tstatement\")\t\n",
    "#slightly\tlame\texample\tof\tcaret\tusage.\tWe\tare\tmatching\ta\tRE\tthat\thas\tthe\tpattern\t\n",
    "#\tGANG\there\twhere\tthe\tN\tis\tNOT\tX,\tY\tor\tZ\t\n",
    "if\tre.search(r\"GA[^XYZ]G\",dna):\n",
    "    print(\"restriction\tfragment\tfound\twith\tcaret\tstatement\")\t"
   ]
  },
  {
   "cell_type": "markdown",
   "metadata": {},
   "source": [
    "## Character groups"
   ]
  },
  {
   "cell_type": "markdown",
   "metadata": {},
   "source": [
    "### ()"
   ]
  },
  {
   "cell_type": "code",
   "execution_count": 32,
   "metadata": {
    "collapsed": false
   },
   "outputs": [
    {
     "name": "stdout",
     "output_type": "stream",
     "text": [
      "restriction fragment found!\n"
     ]
    }
   ],
   "source": [
    "dna=\"ATCGCGACCAC\"\n",
    "if re.search(r\"G(A|T|C|G)CC\",dna):\n",
    "    print(\"restriction fragment found!\")"
   ]
  },
  {
   "cell_type": "markdown",
   "metadata": {},
   "source": [
    "### []"
   ]
  },
  {
   "cell_type": "code",
   "execution_count": 33,
   "metadata": {
    "collapsed": false
   },
   "outputs": [
    {
     "name": "stdout",
     "output_type": "stream",
     "text": [
      "restriction fragment found!\n"
     ]
    }
   ],
   "source": [
    "dna=\"ATCGCGACCAC\"\n",
    "if re.search(r\"G[ATCG]CC\",dna):\n",
    "    print(\"restriction fragment found!\")"
   ]
  },
  {
   "cell_type": "markdown",
   "metadata": {},
   "source": [
    "### . Example with . which matches to any character"
   ]
  },
  {
   "cell_type": "code",
   "execution_count": 34,
   "metadata": {
    "collapsed": false
   },
   "outputs": [
    {
     "name": "stdout",
     "output_type": "stream",
     "text": [
      "restriction fragment found!\n"
     ]
    }
   ],
   "source": [
    "dna=\"ATCGCGACCAC\"\n",
    "if re.search(r\"G.CC\",dna):\n",
    "    print(\"restriction fragment found!\")"
   ]
  },
  {
   "cell_type": "markdown",
   "metadata": {},
   "source": [
    "### ^ \n",
    "- ^\tmeans\tthat\tXYZ\tare\tcharacters\tthat\twe\tdon’t\twant\tto\tmatch\twhen\tthey\tare\tin\ta\t[]\t\n",
    "- ^\tcan\talso\tmean\tat\tthe\texact\tbeginning\tof\ta string\tbut\tthen\tthe\tsearch\tpa?ern\tisn’t\tencased\tin\t[]\t"
   ]
  },
  {
   "cell_type": "code",
   "execution_count": 35,
   "metadata": {
    "collapsed": false
   },
   "outputs": [
    {
     "name": "stdout",
     "output_type": "stream",
     "text": [
      "restriction fragment found!\n"
     ]
    }
   ],
   "source": [
    "dna=\"ATCGCGACCAC\"\n",
    "if re.search(r\"G[^XYZ]CC\",dna):\n",
    "    print(\"restriction fragment found!\")"
   ]
  },
  {
   "cell_type": "code",
   "execution_count": 38,
   "metadata": {
    "collapsed": false
   },
   "outputs": [
    {
     "name": "stdout",
     "output_type": "stream",
     "text": [
      "1: restriction fragment found!\n"
     ]
    }
   ],
   "source": [
    "dna=\"ATCGCGACCAC\"\n",
    "if re.search(r\"^ATC\",dna):\n",
    "    print(\"1: restriction fragment found!\") # ATC is in the dna string and is at the beginning so the pattern does match\n",
    "    \n",
    "dna=\"ATCGCGACCAC\"\n",
    "if re.search(r\"^CCAC\",dna):\n",
    "    print(\"2: restriction fragment found!\") # CCAC is in the dna string but not at the beginning so the pattern doesn't match"
   ]
  },
  {
   "cell_type": "markdown",
   "metadata": {},
   "source": [
    "## Quantifiers"
   ]
  },
  {
   "cell_type": "markdown",
   "metadata": {},
   "source": [
    "-  ? means 0 or 1\n",
    "- \\+ means 1 or more\n",
    "- \\* means 0 or more\n",
    "--------------\n",
    "GAT?C\t\t! means\tthat\tT\tcan\tbe\tpresent\tin\tthe\t\n",
    "\t\t\t\tpa?ern\t0\tor\t1\tEmes\t(the\tpa?ern\tcan\tbe\t\n",
    "\t\t\t\tGAC\tor\tGATC)\t\n",
    "--------------\n",
    "GGGA+TTT\t\twill\tmatch:\tGGGATTT\tor\tGGGAATTT\tor\t\n",
    "\t\t\t\tGGGAAATTT\tbut\tit\twill\tNOT\tmatch\t\n",
    "\t\t\t\tGGGTTT\n",
    "-------------\n",
    "\n",
    "GG(AAA)*TT\t\twill\tmatch:\t\t\n",
    "\t\t\t\tGGTT\t\n",
    "\t\t\t\tGGAAATT\t\n",
    "\t\t\t\tGGAAAAAAAAAAAAAAATT"
   ]
  },
  {
   "cell_type": "markdown",
   "metadata": {},
   "source": [
    "## Positions\n",
    "• ^\t-\tcaret\tmatches\tbeginning\tof\tstring\t\n",
    "• \\$\t-\tmatches\tend\tof\tstring\t\n",
    "• Example:\t\t\n",
    "^AAA\twill\tmatch:\tAAATT\tbut\tnot\tGGAAATT\t\n",
    "GGG$\twill\tmatch:\tAAAGGG\tbut\tnot\tAAAGGGTT\t"
   ]
  },
  {
   "cell_type": "markdown",
   "metadata": {},
   "source": [
    "#### combining\n",
    "`^ATG[ATGC]{30,1000}A{5,10}$`\n",
    "\n",
    "what does this mean?"
   ]
  },
  {
   "cell_type": "markdown",
   "metadata": {},
   "source": [
    "### re.match()\n",
    "### re.search()"
   ]
  },
  {
   "cell_type": "markdown",
   "metadata": {},
   "source": [
    "## Group -- on match object\n",
    ".group()\ton\tmatch\tobject\t(a\tnew\ttype\tof\tdata\ttype\t that\twe\thaven’t\tyet\tseen\t–\tbut\twe\twill\tsee\tobjects\t later\t–\tthat\thas\tits\town\tmethods)\twhich\tevaluates\t to\tTrue\tor\tFalse\tand\tis\tstore \tas\ta\tresult\tfrom\tre.search"
   ]
  },
  {
   "cell_type": "code",
   "execution_count": 42,
   "metadata": {
    "collapsed": false
   },
   "outputs": [
    {
     "name": "stdout",
     "output_type": "stream",
     "text": [
      "GACGTAC\n"
     ]
    }
   ],
   "source": [
    "dna=\"ATGACGTACGTACGACTG\"\t\n",
    "#store\tthe\tmatch\tobject\tin\tthe\tvariable\tm\t\n",
    "m=re.search(r\"GA[ATGC]{3}AC\",dna)\t\n",
    "print(m.group())"
   ]
  },
  {
   "cell_type": "markdown",
   "metadata": {},
   "source": [
    "### complicate example"
   ]
  },
  {
   "cell_type": "code",
   "execution_count": 44,
   "metadata": {
    "collapsed": false
   },
   "outputs": [
    {
     "name": "stdout",
     "output_type": "stream",
     "text": [
      "Entire\tmatch:\tGACGTACGTAC\n",
      "First\tmatch:\tCGT\n",
      "Second\tmatch:\tGT\n",
      "GACGTACGTAC\n"
     ]
    }
   ],
   "source": [
    "#a\tmore\tcomplicated\texample\tthan\tthe\tprevious\tone\t\n",
    "dna=\"ATGACGTACGTACGACTG\"\t\n",
    "#groups!\t\n",
    "#store\tthe\tmatch\tobject\tin\tthe\tvariable\tm\t\n",
    "#we\tare\tsearching\tfor\tthe\tpa=ern:\tGANNNACNNAC\t\n",
    "m=re.search(r\"GA([ATGC]{3})AC([ATCG]{2})AC\",dna)\t\n",
    "#this\tallows\tyou\tto\tspecify\tgroups\tthat\tyou\tcan\tthen\tindividually\tcall\t\n",
    "print(\"Entire\tmatch:\t\"\t+\tm.group())\t\n",
    "print(\"First\tmatch:\t\"+\tm.group(1))\t\n",
    "print(\"Second\tmatch:\t\"\t+\tm.group(2))\t\n",
    "#in\tthis\tcase\tthis\tshouldn't\tgive\ta\tdifferent\tanswer\tto\tthe\tsearch\t\n",
    "#because\tour\tdata\tset\tdoesn't\tcontain\tany\tle=er\tthat\taren't\t\n",
    "#\tA,C,G,or\tT\tbut\tthe\tsearch\tresult\tisn't\tclustered\tin\tgroups\tanymore\t\n",
    "n=re.search(r\"GA...AC..AC\",dna)\t\n",
    "print(n.group())\t"
   ]
  },
  {
   "cell_type": "markdown",
   "metadata": {},
   "source": [
    "## capturing + grouping example\n",
    "### grouping\n",
    ".group(1)\t!\treturn\tpiece\tof\tstring\tmatched\tby\t the\tsection\tof\tthe\tpattern\tin\tthe\tfirst\tset\tof\t parentheses\t\n",
    ".group(2)\t!\treturn\tpiece\tspecified\tin\tsecond\tparentheses"
   ]
  },
  {
   "cell_type": "code",
   "execution_count": 47,
   "metadata": {
    "collapsed": false
   },
   "outputs": [
    {
     "name": "stdout",
     "output_type": "stream",
     "text": [
      "Entire\tmatch:\tGACGTACGTAC\n",
      "First\tmatch:\tCGT\n",
      "Second\tmatch:\tGT\n"
     ]
    }
   ],
   "source": [
    "dna=\"ATGACGTACGTACGACTG\"\t\n",
    "#store\tthe\tmatch\tobject\tin\tthe\tvariable\tm\t\n",
    "m=re.search(r\"GA([ATGC]{3})AC([ATCG]{2})AC\",dna)\t\n",
    "print(\"Entire\tmatch:\t\"+\tm.group())\t\n",
    "print(\"First\tmatch:\t\"+\tm.group(1))\t\n",
    "print(\"Second\tmatch:\t\"\t+\tm.group(2))\t"
   ]
  },
  {
   "cell_type": "markdown",
   "metadata": {},
   "source": [
    "## start and end"
   ]
  },
  {
   "cell_type": "code",
   "execution_count": 48,
   "metadata": {
    "collapsed": false
   },
   "outputs": [
    {
     "name": "stdout",
     "output_type": "stream",
     "text": [
      "Start:\t2\n",
      "End:\t13\n",
      "The\tfirst\tgroup\tstarts\tat:\t4\n",
      "The\tfirst\tgroup\tends\tat:\t7\n",
      "The\tsecond\tgroup\tstarts\tat:\t9\n",
      "The\tsecond\tgroup\tends\tat:\t11\n"
     ]
    }
   ],
   "source": [
    "dna=\"ATGACGTACGTACGACTG\"\t\n",
    "#store\tthe\tmatch\tobject\tin\tthe\tvariable\tm\t\n",
    "m=re.search(r\"GA([ATGC]{3})AC([ATCG]{2})AC\",dna)\t\n",
    "print(\"Start:\t\"+\tstr(m.start()))\t\n",
    "print(\"End:\t\"+\tstr(m.end()))\t\n",
    "print(\"The\tfirst\tgroup\tstarts\tat:\t\"+\tstr(m.start(1)))\t\n",
    "print(\"The\tfirst\tgroup\tends\tat:\t\"+\tstr(m.end(1)))\t\n",
    "print(\"The\tsecond\tgroup\tstarts\tat:\t\"+\tstr(m.start(2)))\t\n",
    "print(\"The\tsecond\tgroup\tends\tat:\t\"+\tstr(m.end(2)))\t"
   ]
  },
  {
   "cell_type": "code",
   "execution_count": 50,
   "metadata": {
    "collapsed": false
   },
   "outputs": [
    {
     "name": "stdout",
     "output_type": "stream",
     "text": [
      "Start:\t2\n",
      "End:\t13\n"
     ]
    }
   ],
   "source": [
    "dna=\"ATGACGTACGTACGACTG\"\t\n",
    "#store\tthe\tmatch\tobject\tin\tthe\tvariable\tm\t\n",
    "m=re.search(r\"GA([ATGC]{3})AC([ATCG]{2})AC\",dna)\t\n",
    "print(\"Start:\t\"+\tstr(m.start()))\t\n",
    "print(\"End:\t\"+\tstr(m.end()))\t"
   ]
  },
  {
   "cell_type": "markdown",
   "metadata": {},
   "source": [
    "## get\tthe\tstart\tand\tend\tpositions\tof\tindividual\tgroups\tby\tsupplying\ta\tnumber:\t"
   ]
  },
  {
   "cell_type": "code",
   "execution_count": 51,
   "metadata": {
    "collapsed": false
   },
   "outputs": [
    {
     "name": "stdout",
     "output_type": "stream",
     "text": [
      "Start:\t2\n",
      "End:\t13\n",
      "group\t1\tstart:\t4\n",
      "group\t1\tend:\t7\n",
      "group\t2\tstart:\t9\n",
      "group\t2\tend:\t11\n"
     ]
    }
   ],
   "source": [
    "dna=\"ATGACGTACGTACGACTG\"\t\n",
    "#store\tthe\tmatch\tobject\tin\tthe\tvariable\tm\t\n",
    "m=re.search(r\"GA([ATGC]{3})AC([ATCG]{2})AC\",dna)\t\n",
    "print(\"Start:\t\"+\tstr(m.start()))\t\n",
    "print(\"End:\t\"+\tstr(m.end()))\t\n",
    "print(\"group\t1\tstart:\t\"\t+\tstr(m.start(1)))\t\n",
    "print(\"group\t1\tend:\t\"\t+str(m.end(1)))\t\n",
    "print(\"group\t2\tstart:\t\"\t+\tstr(m.start(2)))\t\n",
    "print(\"group\t2\tend:\t\"\t+str(m.end(2)))\t"
   ]
  },
  {
   "cell_type": "markdown",
   "metadata": {},
   "source": [
    "## Splitting\ta\tstring\t"
   ]
  },
  {
   "cell_type": "code",
   "execution_count": 53,
   "metadata": {
    "collapsed": false
   },
   "outputs": [
    {
     "name": "stdout",
     "output_type": "stream",
     "text": [
      "['ACT', 'GCAT', 'GCTACGT', 'ACGAT', 'CGA', 'TCG']\n"
     ]
    }
   ],
   "source": [
    "dna=\t\"ACTNGCATRGCTACGTYACGATSCGAWTCG\"\t\n",
    "runs\t=\tre.split(r\"[^ATGC]\",dna)\t\n",
    "print(runs)"
   ]
  },
  {
   "cell_type": "markdown",
   "metadata": {},
   "source": [
    "## Finding multiple matches\n",
    "• `re.findall` :\treturns\tstrings\t(not\tobjects)\tso\t you\tcan’t\tdetermine\tposiEon\tof\tmatches,\tyou\t can\tjust\textract\tthe\tstrings\n",
    "\n",
    "• `re.finditer` :\treturns\ta\tsequence\tof\tmatch\t objects\tso\tyou\tneed\tto\tuse\treturn\tvalue\tin\t loop"
   ]
  },
  {
   "cell_type": "code",
   "execution_count": 54,
   "metadata": {
    "collapsed": false
   },
   "outputs": [
    {
     "name": "stdout",
     "output_type": "stream",
     "text": [
      "['ATTATAT', 'AAATTATA']\n"
     ]
    }
   ],
   "source": [
    "dna=\t\"ACTGCATTATATCGTACGAAATTATACGCGCG\"\t\n",
    "runs\t=\tre.findall(r\"[AT]{6,10}\",dna)\t\n",
    "print(runs)\t"
   ]
  },
  {
   "cell_type": "code",
   "execution_count": 57,
   "metadata": {
    "collapsed": false
   },
   "outputs": [
    {
     "name": "stdout",
     "output_type": "stream",
     "text": [
      "AT\trich\tregion\tfrom\t5\tto\t12\n",
      "AT\trich\tregion\tfrom\t18\tto\t26\n"
     ]
    }
   ],
   "source": [
    "dna=\t\"ACTGCATTATATCGTACGAAATTATACGCGCG\"\t\n",
    "runs = re.finditer(r\"[AT]{6,10}\",dna)\t\n",
    "for\tmatch\tin\truns:\t\n",
    "\t\t\trun_start=match.start()\t\n",
    "\t\t\trun_end=match.end()\t\n",
    "\t\t\tprint(\"AT\trich\tregion\tfrom\t\"\t+\tstr(run_start)\t+\"\tto\t\"\t+str(run_end))\t"
   ]
  },
  {
   "cell_type": "code",
   "execution_count": null,
   "metadata": {
    "collapsed": true
   },
   "outputs": [],
   "source": []
  }
 ],
 "metadata": {
  "anaconda-cloud": {},
  "kernelspec": {
   "display_name": "Python [Root]",
   "language": "python",
   "name": "Python [Root]"
  },
  "language_info": {
   "codemirror_mode": {
    "name": "ipython",
    "version": 2
   },
   "file_extension": ".py",
   "mimetype": "text/x-python",
   "name": "python",
   "nbconvert_exporter": "python",
   "pygments_lexer": "ipython2",
   "version": "2.7.12"
  }
 },
 "nbformat": 4,
 "nbformat_minor": 0
}
