{
 "cells": [
  {
   "cell_type": "markdown",
   "metadata": {},
   "source": [
    "## BIO208 asmt3 hints"
   ]
  },
  {
   "cell_type": "markdown",
   "metadata": {},
   "source": [
    "## example for question 1B"
   ]
  },
  {
   "cell_type": "code",
   "execution_count": 2,
   "metadata": {
    "collapsed": false
   },
   "outputs": [
    {
     "name": "stdout",
     "output_type": "stream",
     "text": [
      "2\n",
      "4\n",
      "66.6666666667\n"
     ]
    }
   ],
   "source": [
    "from __future__ import division # note that if you forget this line, you will get final result as 0\n",
    "\n",
    "# this function trying to count targets in the list (list of items) passed in to the function\n",
    "def count_this (list, targets):\n",
    "    sum = 0\n",
    "    for x in targets:\n",
    "        sum += list.count(x)\n",
    "        print sum # print for debug\n",
    "    return sum/len(list)*100\n",
    "\n",
    "print (count_this([\"apple\", \"banana\",\"banana\", \"cherry\", \"blueberry\", \"apple\"], [\"apple\", \"banana\"]))\n",
    "        "
   ]
  },
  {
   "cell_type": "markdown",
   "metadata": {},
   "source": [
    "### examples for question 2"
   ]
  },
  {
   "cell_type": "code",
   "execution_count": 3,
   "metadata": {
    "collapsed": false
   },
   "outputs": [
    {
     "name": "stdout",
     "output_type": "stream",
     "text": [
      "Drosophila melanogaster\n",
      "atatatatatcgcgtatatatacgactatatgcattaattatagcatatcgatatatatatcgatattatatcgcattatacgcgcgtaattatatcgcgtaattacga ,  kdy647\n",
      "Drosophila melanogaster\n",
      "actgtgacgtgtactgtacgactatcgatacgtagtactgatcgctactgtaatgcatccatgctgacgtatctaagt ,  jdg766\n",
      "Drosophila simulans\n",
      "atcgatcatgtcgatcgatgatgcatccgactatcgtcgatcgtgatcgatcgatcgatcatcgatcgatgtcgatcatgtcgatatcgt ,  kdy533\n",
      "Drosophila yakuba\n",
      "cgcgcgctcgcgcatacggcctaatgcgcgcgctagcgatgc ,  hdt739\n",
      "Drosophila ananassae\n",
      "ttacgatcgatcgatcgatcgatcgtcgatcgtcgatgctacatcgatcatcatcggattagtcacatcgatcgatcatcgactgatcgtcgatcgtagatgctgacatcgatagca ,  hdu045\n",
      "Drosophila ananassae\n",
      "gcatcgatcgatcgcggcgcatcgatcgcgatcatcgatcatacgcgtcatatctatacgtcactgccgcgcgtatctacgcgatgactagctagact ,  teg436\n"
     ]
    }
   ],
   "source": [
    "## i have data.csv in my folder, so I could just do open(\"data.csv\", \"r\") to read file\n",
    "# see how it works might help you in understanding how to work with the file\n",
    "f= open(\"data.csv\", \"r\")\n",
    "for line in f:\n",
    "    array = line.rstrip(\"\\n\").split(\",\")\n",
    "    print array[0] # print the first element of the line (first column, for current line)\n",
    "    print array[1],\"+ \",array[2] # print the second and third element of the line (for current line)\n"
   ]
  },
  {
   "cell_type": "markdown",
   "metadata": {},
   "source": [
    "### the number in the file is read as a string in python\n",
    "- so you may have to convert it to integer by `int(string)` to compare\n",
    "- ex: if (int(array[3]) > 30)"
   ]
  },
  {
   "cell_type": "code",
   "execution_count": 8,
   "metadata": {
    "collapsed": false
   },
   "outputs": [
    {
     "name": "stdout",
     "output_type": "stream",
     "text": [
      "3 this is number\n"
     ]
    }
   ],
   "source": [
    "string = \"3\"\n",
    "num = int(string)\n",
    "print (\"%d is a number\" % num)"
   ]
  }
 ],
 "metadata": {
  "kernelspec": {
   "display_name": "Python [Root]",
   "language": "python",
   "name": "Python [Root]"
  },
  "language_info": {
   "codemirror_mode": {
    "name": "ipython",
    "version": 2
   },
   "file_extension": ".py",
   "mimetype": "text/x-python",
   "name": "python",
   "nbconvert_exporter": "python",
   "pygments_lexer": "ipython2",
   "version": "2.7.12"
  }
 },
 "nbformat": 4,
 "nbformat_minor": 0
}
