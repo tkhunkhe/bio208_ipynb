{
 "cells": [
  {
   "cell_type": "markdown",
   "metadata": {},
   "source": [
    "## BIO208 asmt3 hints"
   ]
  },
  {
   "cell_type": "markdown",
   "metadata": {},
   "source": [
    "## example for question 1B"
   ]
  },
  {
   "cell_type": "code",
   "execution_count": 2,
   "metadata": {
    "collapsed": false
   },
   "outputs": [
    {
     "name": "stdout",
     "output_type": "stream",
     "text": [
      "2\n",
      "4\n",
      "66.6666666667\n"
     ]
    }
   ],
   "source": [
    "from __future__ import division # note that if you forget this line, you will get final result as 0\n",
    "\n",
    "# this function trying to count targets in the list (list of items) passed in to the function\n",
    "def count_this (list, targets):\n",
    "    sum = 0\n",
    "    for x in targets:\n",
    "        sum += list.count(x)\n",
    "        print sum # print for debug\n",
    "    return sum/len(list)*100\n",
    "\n",
    "print (count_this([\"apple\", \"banana\",\"banana\", \"cherry\", \"blueberry\", \"apple\"], [\"apple\", \"banana\"]))\n",
    "        "
   ]
  },
  {
   "cell_type": "markdown",
   "metadata": {},
   "source": [
    "### examples for question 2"
   ]
  },
  {
   "cell_type": "code",
   "execution_count": 10,
   "metadata": {
    "collapsed": false
   },
   "outputs": [
    {
     "name": "stdout",
     "output_type": "stream",
     "text": [
      "Drosophila melanogaster\n",
      "atatatatatcgcgtatatatacgactatatgcattaattatagcatatcgatatatatatcgatattatatcgcattatacgcgcgtaattatatcgcgtaattacga +  kdy647\n",
      "Drosophila melanogaster\n",
      "actgtgacgtgtactgtacgactatcgatacgtagtactgatcgctactgtaatgcatccatgctgacgtatctaagt +  jdg766\n",
      "Drosophila simulans\n",
      "atcgatcatgtcgatcgatgatgcatccgactatcgtcgatcgtgatcgatcgatcgatcatcgatcgatgtcgatcatgtcgatatcgt +  kdy533\n",
      "Drosophila yakuba\n",
      "cgcgcgctcgcgcatacggcctaatgcgcgcgctagcgatgc +  hdt739\n",
      "Drosophila ananassae\n",
      "ttacgatcgatcgatcgatcgatcgtcgatcgtcgatgctacatcgatcatcatcggattagtcacatcgatcgatcatcgactgatcgtcgatcgtagatgctgacatcgatagca +  hdu045\n",
      "Drosophila ananassae\n",
      "gcatcgatcgatcgcggcgcatcgatcgcgatcatcgatcatacgcgtcatatctatacgtcactgccgcgcgtatctacgcgatgactagctagact +  teg436\n"
     ]
    }
   ],
   "source": [
    "## i have data.csv in my folder, so I could just do open(\"data.csv\", \"r\") to read file\n",
    "# see how it works might help you in understanding how to work with the file\n",
    "f= open(\"data.csv\", \"r\")\n",
    "for line in f:\n",
    "    array = line.rstrip(\"\\n\").split(\",\")\n",
    "    print array[0] # print the first element of the line (first column, for current line)\n",
    "    print array[1],\"+ \",array[2] # print the second and third element of the line (for current line)\n",
    "f.close()"
   ]
  },
  {
   "cell_type": "markdown",
   "metadata": {},
   "source": [
    "### the number in the file is read as a string in python\n",
    "- so you may have to convert it to integer by `int(string)` to compare\n",
    "- ex: if (int(array[3]) > 30)"
   ]
  },
  {
   "cell_type": "code",
   "execution_count": 1,
   "metadata": {
    "collapsed": false
   },
   "outputs": [
    {
     "name": "stdout",
     "output_type": "stream",
     "text": [
      "3 is a number\n"
     ]
    }
   ],
   "source": [
    "string = \"3\"\n",
    "num = int(string)\n",
    "print (\"%d is a number\" % num)"
   ]
  },
  {
   "cell_type": "markdown",
   "metadata": {},
   "source": [
    "## Some common mistakes/misconceptions\n",
    "- check if you have all these right for debugging your code"
   ]
  },
  {
   "cell_type": "markdown",
   "metadata": {},
   "source": [
    "- indentation. \n",
    "- scope of variable. Have you declared the variable yet? Where did you declare it? Is it the right reference? \n",
    "- is your function returning anything or is it just printing the result?\n",
    "- did you forget : ?\n",
    "- did you compute percentage inside the loop, in stead of after?"
   ]
  },
  {
   "cell_type": "code",
   "execution_count": 3,
   "metadata": {
    "collapsed": false
   },
   "outputs": [
    {
     "name": "stdout",
     "output_type": "stream",
     "text": [
      "6\n"
     ]
    }
   ],
   "source": [
    "# compare the result of this code to the next one\n",
    "sum = 0\n",
    "for i in range(5):\n",
    "    sum += i\n",
    "sum -= i\n",
    "print sum"
   ]
  },
  {
   "cell_type": "code",
   "execution_count": 4,
   "metadata": {
    "collapsed": false
   },
   "outputs": [
    {
     "name": "stdout",
     "output_type": "stream",
     "text": [
      "0\n"
     ]
    }
   ],
   "source": [
    "sum = 0\n",
    "for i in range(5):\n",
    "    sum += i\n",
    "    sum -= i\n",
    "print sum"
   ]
  },
  {
   "cell_type": "code",
   "execution_count": 9,
   "metadata": {
    "collapsed": false
   },
   "outputs": [
    {
     "name": "stdout",
     "output_type": "stream",
     "text": [
      "2\n"
     ]
    },
    {
     "ename": "AssertionError",
     "evalue": "",
     "output_type": "error",
     "traceback": [
      "\u001b[0;31m---------------------------------------------------------------------------\u001b[0m",
      "\u001b[0;31mAssertionError\u001b[0m                            Traceback (most recent call last)",
      "\u001b[0;32m<ipython-input-9-80a2b045934b>\u001b[0m in \u001b[0;36m<module>\u001b[0;34m()\u001b[0m\n\u001b[1;32m      3\u001b[0m     \u001b[0;32mprint\u001b[0m \u001b[0;36m2\u001b[0m\u001b[0;34m\u001b[0m\u001b[0m\n\u001b[1;32m      4\u001b[0m \u001b[0;34m\u001b[0m\u001b[0m\n\u001b[0;32m----> 5\u001b[0;31m \u001b[0;32massert\u001b[0m \u001b[0mreturn_2_func\u001b[0m\u001b[0;34m(\u001b[0m\u001b[0;34m)\u001b[0m\u001b[0;34m==\u001b[0m\u001b[0;36m2\u001b[0m\u001b[0;34m\u001b[0m\u001b[0m\n\u001b[0m",
      "\u001b[0;31mAssertionError\u001b[0m: "
     ]
    }
   ],
   "source": [
    "# EXAMPLE of forgetting to return something in function\n",
    "def return_2_func():\n",
    "    print 2\n",
    "\n",
    "assert return_2_func()==2"
   ]
  },
  {
   "cell_type": "code",
   "execution_count": 8,
   "metadata": {
    "collapsed": true
   },
   "outputs": [],
   "source": [
    "# This is how it is supposed to be\n",
    "def return_2_func():\n",
    "    return 2\n",
    "\n",
    "assert return_2_func()==2 # Nothing is printed but no error because the assertion gets the expected result"
   ]
  },
  {
   "cell_type": "markdown",
   "metadata": {},
   "source": [
    "### read column for the file"
   ]
  },
  {
   "cell_type": "code",
   "execution_count": 12,
   "metadata": {
    "collapsed": false
   },
   "outputs": [
    {
     "name": "stdout",
     "output_type": "stream",
     "text": [
      "k\n",
      "d\n",
      "y\n",
      "6\n",
      "4\n",
      "7\n",
      "j\n",
      "d\n",
      "g\n",
      "7\n",
      "6\n",
      "6\n",
      "k\n",
      "d\n",
      "y\n",
      "5\n",
      "3\n",
      "3\n",
      "h\n",
      "d\n",
      "t\n",
      "7\n",
      "3\n",
      "9\n",
      "h\n",
      "d\n",
      "u\n",
      "0\n",
      "4\n",
      "5\n",
      "t\n",
      "e\n",
      "g\n",
      "4\n",
      "3\n",
      "6\n"
     ]
    }
   ],
   "source": [
    "f= open(\"data.csv\")\n",
    "\n",
    "for line in f:\n",
    "    array = line.rstrip(\"\\n\").split(\",\")\n",
    "    for a in array[2]: # we don't need this for loop to print the 3rd column \n",
    "        print a\n",
    "f.close()\n"
   ]
  },
  {
   "cell_type": "code",
   "execution_count": 13,
   "metadata": {
    "collapsed": false
   },
   "outputs": [
    {
     "name": "stdout",
     "output_type": "stream",
     "text": [
      "kdy647\n",
      "jdg766\n",
      "kdy533\n",
      "hdt739\n",
      "hdu045\n",
      "teg436\n"
     ]
    }
   ],
   "source": [
    "f= open(\"data.csv\")\n",
    "\n",
    "for line in f:\n",
    "    array = line.rstrip(\"\\n\").split(\",\")\n",
    "    print array[2]\n",
    "f.close()"
   ]
  },
  {
   "cell_type": "code",
   "execution_count": 14,
   "metadata": {
    "collapsed": false
   },
   "outputs": [
    {
     "name": "stdout",
     "output_type": "stream",
     "text": [
      "1 :  kdy647\n",
      "2 :  jdg766\n",
      "3 :  kdy533\n",
      "4 :  hdt739\n",
      "5 :  hdu045\n",
      "6 :  teg436\n"
     ]
    }
   ],
   "source": [
    "#### it is reading line by line, not column by column\n",
    "## try to understand how this work\n",
    "f= open(\"data.csv\")\n",
    "count = 0\n",
    "for line in f:\n",
    "    count += 1\n",
    "    array = line.rstrip(\"\\n\").split(\",\")\n",
    "    print count,\": \", array[2]\n",
    "f.close()\n"
   ]
  },
  {
   "cell_type": "code",
   "execution_count": null,
   "metadata": {
    "collapsed": true
   },
   "outputs": [],
   "source": []
  }
 ],
 "metadata": {
  "anaconda-cloud": {},
  "kernelspec": {
   "display_name": "Python [Root]",
   "language": "python",
   "name": "Python [Root]"
  },
  "language_info": {
   "codemirror_mode": {
    "name": "ipython",
    "version": 2
   },
   "file_extension": ".py",
   "mimetype": "text/x-python",
   "name": "python",
   "nbconvert_exporter": "python",
   "pygments_lexer": "ipython2",
   "version": "2.7.12"
  }
 },
 "nbformat": 4,
 "nbformat_minor": 0
}
