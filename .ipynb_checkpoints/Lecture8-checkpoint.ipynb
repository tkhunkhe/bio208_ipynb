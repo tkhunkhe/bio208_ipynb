{
 "cells": [
  {
   "cell_type": "markdown",
   "metadata": {},
   "source": [
    "# Lecture 8 : Dictionary\n",
    "- BIO208: Fall 2016"
   ]
  },
  {
   "cell_type": "markdown",
   "metadata": {},
   "source": [
    "## Lists of lists"
   ]
  },
  {
   "cell_type": "code",
   "execution_count": 2,
   "metadata": {
    "collapsed": false
   },
   "outputs": [
    {
     "name": "stdout",
     "output_type": "stream",
     "text": [
      "['T', '-', 'T', 'T', 'G']\n",
      "T\n"
     ]
    }
   ],
   "source": [
    "aln=[[\"A\",\"T\",\"-\",\"T\",\"G\"],[\"A\",\"A\",\"T\",\"A\",\"G\"],[\"T\",\"-\",\"T\",\"T\",\"G\"],[\"A\",\"A\",\"-\",\"T\",\"A\"]]\n",
    "seq=aln[2]\n",
    "print(seq)\n",
    "char=aln[2][3]\n",
    "print(char)"
   ]
  },
  {
   "cell_type": "markdown",
   "metadata": {},
   "source": [
    "## ex1\n",
    "- tripple for-loops and list"
   ]
  },
  {
   "cell_type": "code",
   "execution_count": 4,
   "metadata": {
    "collapsed": false
   },
   "outputs": [
    {
     "name": "stdout",
     "output_type": "stream",
     "text": [
      "count is 0 for AAA\n",
      "count is 0 for AAC\n",
      "count is 0 for AAG\n",
      "count is 1 for AAT\n",
      "count is 0 for ACA\n",
      "count is 0 for ACC\n",
      "count is 1 for ACG\n",
      "count is 0 for ACT\n",
      "count is 0 for AGA\n",
      "count is 0 for AGC\n",
      "count is 0 for AGG\n",
      "count is 0 for AGT\n",
      "count is 0 for ATA\n",
      "count is 2 for ATC\n",
      "count is 1 for ATG\n",
      "count is 0 for ATT\n",
      "count is 0 for CAA\n",
      "count is 0 for CAC\n",
      "count is 0 for CAG\n",
      "count is 0 for CAT\n",
      "count is 0 for CCA\n",
      "count is 0 for CCC\n",
      "count is 0 for CCG\n",
      "count is 0 for CCT\n",
      "count is 1 for CGA\n",
      "count is 1 for CGC\n",
      "count is 0 for CGG\n",
      "count is 1 for CGT\n",
      "count is 0 for CTA\n",
      "count is 0 for CTC\n",
      "count is 1 for CTG\n",
      "count is 0 for CTT\n",
      "count is 0 for GAA\n",
      "count is 0 for GAC\n",
      "count is 0 for GAG\n",
      "count is 2 for GAT\n",
      "count is 0 for GCA\n",
      "count is 0 for GCC\n",
      "count is 0 for GCG\n",
      "count is 1 for GCT\n",
      "count is 0 for GGA\n",
      "count is 0 for GGC\n",
      "count is 0 for GGG\n",
      "count is 0 for GGT\n",
      "count is 1 for GTA\n",
      "count is 0 for GTC\n",
      "count is 0 for GTG\n",
      "count is 0 for GTT\n",
      "count is 0 for TAA\n",
      "count is 1 for TAC\n",
      "count is 0 for TAG\n",
      "count is 0 for TAT\n",
      "count is 0 for TCA\n",
      "count is 0 for TCC\n",
      "count is 2 for TCG\n",
      "count is 0 for TCT\n",
      "count is 2 for TGA\n",
      "count is 0 for TGC\n",
      "count is 0 for TGG\n",
      "count is 0 for TGT\n",
      "count is 0 for TTA\n",
      "count is 0 for TTC\n",
      "count is 0 for TTG\n",
      "count is 0 for TTT\n",
      "[0, 0, 0, 1, 0, 0, 1, 0, 0, 0, 0, 0, 0, 2, 1, 0, 0, 0, 0, 0, 0, 0, 0, 0, 1, 1, 0, 1, 0, 0, 1, 0, 0, 0, 0, 2, 0, 0, 0, 1, 0, 0, 0, 0, 1, 0, 0, 0, 0, 1, 0, 0, 0, 0, 2, 0, 2, 0, 0, 0, 0, 0, 0, 0]\n"
     ]
    }
   ],
   "source": [
    "dna=\"AATGATCGATCGTACGCTGA\"\n",
    "all_counts=[]\n",
    "for base1 in [\"A\",\"C\",\"G\",\"T\"]:\n",
    "\tfor base2 in [\"A\",\"C\",\"G\",\"T\"]:\n",
    "\t\tfor base3 in [\"A\",\"C\",\"G\",\"T\"]:\n",
    "\t\t\ttrinucleotide=base1+base2+base3\n",
    "\t\t\tcount=dna.count(trinucleotide)\n",
    "\t\t\tprint(\"count is \"+str(count)+\" for \"+trinucleotide)\n",
    "\t\t\tall_counts.append(count)\n",
    "print(all_counts)\n"
   ]
  },
  {
   "cell_type": "markdown",
   "metadata": {},
   "source": [
    "## ex2"
   ]
  },
  {
   "cell_type": "code",
   "execution_count": 5,
   "metadata": {
    "collapsed": false
   },
   "outputs": [
    {
     "name": "stdout",
     "output_type": "stream",
     "text": [
      "[0, 0, 0, 1, 0, 0, 1, 0, 0, 0, 0, 0, 0, 2, 1, 0, 0, 0, 0, 0, 0, 0, 0, 0, 1, 1, 0, 1, 0, 0, 1, 0, 0, 0, 0, 2, 0, 0, 0, 1, 0, 0, 0, 0, 1, 0, 0, 0, 0, 1, 0, 0, 0, 0, 2, 0, 2, 0, 0, 0, 0, 0, 0, 0]\n",
      "['AAA', 'AAC', 'AAG', 'AAT', 'ACA', 'ACC', 'ACG', 'ACT', 'AGA', 'AGC', 'AGG', 'AGT', 'ATA', 'ATC', 'ATG', 'ATT', 'CAA', 'CAC', 'CAG', 'CAT', 'CCA', 'CCC', 'CCG', 'CCT', 'CGA', 'CGC', 'CGG', 'CGT', 'CTA', 'CTC', 'CTG', 'CTT', 'GAA', 'GAC', 'GAG', 'GAT', 'GCA', 'GCC', 'GCG', 'GCT', 'GGA', 'GGC', 'GGG', 'GGT', 'GTA', 'GTC', 'GTG', 'GTT', 'TAA', 'TAC', 'TAG', 'TAT', 'TCA', 'TCC', 'TCG', 'TCT', 'TGA', 'TGC', 'TGG', 'TGT', 'TTA', 'TTC', 'TTG', 'TTT']\n",
      "count for TGA is 2\n"
     ]
    }
   ],
   "source": [
    "dna=\"AATGATCGATCGTACGCTGA\"\n",
    "#trying to use lists and for loops - things that we have already learned about to solve this problem\n",
    "#we can solve it but it is inelegant\n",
    "all_trinucleotides=[]\n",
    "all_counts=[]\n",
    "for base1 in [\"A\",\"C\",\"G\",\"T\"]:\n",
    "\tfor base2 in [\"A\",\"C\",\"G\",\"T\"]:\n",
    "\t\tfor base3 in [\"A\",\"C\",\"G\",\"T\"]:\n",
    "\t\t\ttrinucleotide=base1+base2+base3\n",
    "\t\t\tcount=dna.count(trinucleotide)\n",
    "\t\t\t#print(\"count is \"+str(count)+\" for \"+trinucleotide)\n",
    "\t\t\tall_trinucleotides.append(trinucleotide)\n",
    "\t\t\tall_counts.append(count)\n",
    "print(all_counts)\n",
    "print(all_trinucleotides)\n",
    "#we can look up the counts for specific trinucleotides\n",
    "i=all_trinucleotides.index(\"TGA\")\n",
    "c=all_counts[i]\n",
    "print(\"count for TGA is \"+str(c))"
   ]
  },
  {
   "cell_type": "markdown",
   "metadata": {},
   "source": [
    "## ex3: Dictionary\n",
    "- { }\n",
    "- dictionary keys are unordered "
   ]
  },
  {
   "cell_type": "code",
   "execution_count": 7,
   "metadata": {
    "collapsed": false
   },
   "outputs": [
    {
     "name": "stdout",
     "output_type": "stream",
     "text": [
      "3\n",
      "{'BisI': 'GC[ATGC]GC', 'EcoRI': 'GAATTC', 'AvaII': 'GG(A|T)CC'}\n",
      "BisI\n",
      "EcoRI\n",
      "AvaII\n"
     ]
    }
   ],
   "source": [
    "#create an empty dictionary\n",
    "enzymes ={}\n",
    "#assign key value pairs\n",
    "enzymes[\"EcoRI\"]=r\"GAATTC\"\n",
    "enzymes[\"AvaII\"]=r\"GG(A|T)CC\"\n",
    "enzymes[\"BisI\"]=r\"GC[ATGC]GC\"\n",
    "#ask for the length of the dictionary\n",
    "print(len(enzymes))\n",
    "\"\"\"\n",
    "print out all the key value pairs\n",
    "I said something incorrect in class - mostly\n",
    "due to my own lack of experience with dictionaries\n",
    "dictionary keys are unordered in the sense that python\n",
    "has an algorithm that stores them in the most efficient\n",
    "way - which is not necessarily predicted by the order\n",
    "that you input the key:value pairs\n",
    "however, this means that when you print out the\n",
    "dictionary, it will just give you the one order that it\n",
    "has imposed behind the scenes...unless you add another\n",
    "key;value pair to the dictionary at which point it will\n",
    "again need to order the keys efficiently, behind the scenes\n",
    "\"\"\"\n",
    "print(enzymes)\n",
    "for key in enzymes:\n",
    "    print(key)"
   ]
  },
  {
   "cell_type": "markdown",
   "metadata": {},
   "source": [
    "## ex4"
   ]
  },
  {
   "cell_type": "code",
   "execution_count": 8,
   "metadata": {
    "collapsed": false
   },
   "outputs": [
    {
     "name": "stdout",
     "output_type": "stream",
     "text": [
      "{'ACC': 0, 'ATG': 1, 'AAG': 0, 'AAA': 0, 'ATC': 2, 'AAC': 0, 'ATA': 0, 'AGG': 0, 'CCT': 0, 'CTC': 0, 'AGC': 0, 'ACA': 0, 'AGA': 0, 'CAT': 0, 'AAT': 1, 'ATT': 0, 'CTG': 1, 'CTA': 0, 'ACT': 0, 'CAC': 0, 'ACG': 1, 'CAA': 0, 'AGT': 0, 'CCA': 0, 'CCG': 0, 'CCC': 0, 'TAT': 0, 'GGT': 0, 'TGT': 0, 'CGA': 1, 'CAG': 0, 'CGC': 1, 'GAT': 2, 'CGG': 0, 'CTT': 0, 'TGC': 0, 'GGG': 0, 'TAG': 0, 'GGA': 0, 'TAA': 0, 'GGC': 0, 'TAC': 1, 'GAG': 0, 'TCG': 2, 'TTA': 0, 'TTT': 0, 'GAC': 0, 'CGT': 1, 'GAA': 0, 'TCA': 0, 'GCA': 0, 'GTA': 1, 'GCC': 0, 'GTC': 0, 'GCG': 0, 'GTG': 0, 'TTC': 0, 'GTT': 0, 'GCT': 1, 'TGA': 2, 'TTG': 0, 'TCC': 0, 'TGG': 0, 'TCT': 0}\n",
      "2\n"
     ]
    }
   ],
   "source": [
    "dna=\"AATGATCGATCGTACGCTGA\"\n",
    "counts={}\n",
    "for base1 in [\"A\",\"C\",\"G\",\"T\"]:\n",
    "\tfor base2 in [\"A\",\"C\",\"G\",\"T\"]:\n",
    "\t\tfor base3 in [\"A\",\"C\",\"G\",\"T\"]:\n",
    "\t\t\ttrinucleotide=base1+base2+base3\n",
    "\t\t\tcount=dna.count(trinucleotide)\n",
    "\t\t\tcounts[trinucleotide]=count\n",
    "print(counts)\n",
    "#print counts for a specific trinucleotide\n",
    "print(counts[\"TGA\"])"
   ]
  },
  {
   "cell_type": "markdown",
   "metadata": {},
   "source": [
    "## ex4b:"
   ]
  },
  {
   "cell_type": "code",
   "execution_count": 10,
   "metadata": {
    "collapsed": false
   },
   "outputs": [
    {
     "name": "stdout",
     "output_type": "stream",
     "text": [
      "{'ATG': 1, 'ACG': 1, 'ATC': 2, 'GTA': 1, 'CGA': 1, 'CGC': 1, 'GAT': 2, 'AAT': 1, 'CTG': 1, 'TGA': 2, 'GCT': 1, 'TAC': 1, 'TCG': 2, 'CGT': 1}\n"
     ]
    }
   ],
   "source": [
    "dna=\"AATGATCGATCGTACGCTGA\"\n",
    "counts={}\n",
    "for base1 in [\"A\",\"C\",\"G\",\"T\"]:\n",
    "\tfor base2 in [\"A\",\"C\",\"G\",\"T\"]:\n",
    "\t\tfor base3 in [\"A\",\"C\",\"G\",\"T\"]:\n",
    "\t\t\ttrinucleotide=base1+base2+base3\n",
    "\t\t\tcount=dna.count(trinucleotide)\n",
    "\t\t\t#add in an if statement so that we can get rid of all the trinucleotides\n",
    "\t\t\t#have a count of 0\n",
    "\t\t\tif count >0:\n",
    "\t\t\t\tcounts[trinucleotide]=count\t\n",
    "print(counts)\n",
    "#print counts for a specific trinucleotide\n",
    "#print(counts[\"TGA\"])\n"
   ]
  },
  {
   "cell_type": "markdown",
   "metadata": {},
   "source": [
    "## ex5:"
   ]
  },
  {
   "cell_type": "code",
   "execution_count": 12,
   "metadata": {
    "collapsed": false
   },
   "outputs": [
    {
     "name": "stdout",
     "output_type": "stream",
     "text": [
      "ATC\n",
      "GAT\n",
      "TCG\n",
      "TGA\n"
     ]
    }
   ],
   "source": [
    "dna=\"AATGATCGATCGTACGCTGA\"\n",
    "counts={}\n",
    "for base1 in [\"A\",\"C\",\"G\",\"T\"]:\n",
    "\tfor base2 in [\"A\",\"C\",\"G\",\"T\"]:\n",
    "\t\tfor base3 in [\"A\",\"C\",\"G\",\"T\"]:\n",
    "\t\t\ttrinucleotide=base1+base2+base3\n",
    "\t\t\t#add in an if statement because we only care about trinucleotides\n",
    "\t\t\t#with 2 counts\n",
    "\t\t\tcount=dna.count(trinucleotide)\n",
    "\t\t\tcounts[trinucleotide]=count\n",
    "\t\t\tif counts.get(trinucleotide,0) == 2:\n",
    "\t\t\t\tprint(trinucleotide)\n",
    "#print(counts)\n",
    "#print counts for a specific trinucleotide\n",
    "#print(counts[\"TGA\"])\n"
   ]
  },
  {
   "cell_type": "markdown",
   "metadata": {},
   "source": [
    "## ex5b:"
   ]
  },
  {
   "cell_type": "code",
   "execution_count": 13,
   "metadata": {
    "collapsed": false
   },
   "outputs": [
    {
     "name": "stdout",
     "output_type": "stream",
     "text": [
      "{'ATG': 1, 'ACG': 1, 'ATC': 2, 'GTA': 1, 'CGA': 1, 'CGC': 1, 'GAT': 2, 'AAT': 1, 'CTG': 1, 'TGA': 2, 'GCT': 1, 'TAC': 1, 'TCG': 2, 'CGT': 1}\n",
      "ATC\n",
      "GAT\n",
      "TCG\n",
      "TGA\n",
      "['ATG', 'ACG', 'ATC', 'GTA', 'CGA', 'CGC', 'GAT', 'AAT', 'CTG', 'TGA', 'GCT', 'TAC', 'TCG', 'CGT']\n"
     ]
    }
   ],
   "source": [
    "dna=\"AATGATCGATCGTACGCTGA\"\n",
    "counts={}\n",
    "for base1 in [\"A\",\"C\",\"G\",\"T\"]:\n",
    "\tfor base2 in [\"A\",\"C\",\"G\",\"T\"]:\n",
    "\t\tfor base3 in [\"A\",\"C\",\"G\",\"T\"]:\n",
    "\t\t\ttrinucleotide=base1+base2+base3\n",
    "\t\t\tcount=dna.count(trinucleotide)\n",
    "\t\t\t#add in an if statement so that we can get rid of all the trinucleotides\n",
    "\t\t\t#have a count of 0\n",
    "\t\t\tif count >0:\n",
    "\t\t\t\tcounts[trinucleotide]=count\t\n",
    "print(counts)\n",
    "#print counts for a specific trinucleotide\n",
    "#print(counts[\"TGA\"])\n",
    "for base1 in [\"A\",\"C\",\"G\",\"T\"]:\n",
    "\tfor base2 in [\"A\",\"C\",\"G\",\"T\"]:\n",
    "\t\tfor base3 in [\"A\",\"C\",\"G\",\"T\"]:\n",
    "\t\t\ttrinucleotide=base1+base2+base3\n",
    "\t\t\t#add in an if statement because we only care about trinucleotides\n",
    "\t\t\t#with 2 counts\n",
    "\t\t\t#if you get rid of the top nested for loops which populate the counts dictionary\n",
    "\t\t\t# you will need to use the following three lines of code to get a dictionary\n",
    "\t\t\t#which contains only items that occur at least once \n",
    "\t\t\t#count=dna.count(trinucleotide)\n",
    "\t\t\t#counts[trinucleotide]=count\n",
    "\t\t\t#if counts.get(trinucleotide,0) == 1 or counts.get(trinucleotide,0) == 2:\n",
    "\t\t\tif counts.get(trinucleotide,0) ==2:\n",
    "\t\t\t\tprint(trinucleotide)\n",
    "print(counts.keys())\n",
    "#print counts for a specific trinucleotide\n",
    "#print(counts[\"TGA\"])\n"
   ]
  },
  {
   "cell_type": "markdown",
   "metadata": {},
   "source": [
    "## ex5b test:"
   ]
  },
  {
   "cell_type": "code",
   "execution_count": 14,
   "metadata": {
    "collapsed": false
   },
   "outputs": [
    {
     "name": "stdout",
     "output_type": "stream",
     "text": [
      "{'ATG': 1, 'ACG': 1, 'ATC': 2, 'GTA': 1, 'CGA': 1, 'CGC': 1, 'GAT': 2, 'AAT': 1, 'CTG': 1, 'TGA': 2, 'GCT': 1, 'TAC': 1, 'TCG': 2, 'CGT': 1}\n",
      "ATC\n",
      "GAT\n",
      "TCG\n",
      "TGA\n",
      "['ATG', 'ACG', 'ATC', 'GTA', 'CGA', 'CGC', 'GAT', 'AAT', 'CTG', 'TGA', 'GCT', 'TAC', 'TCG', 'CGT']\n"
     ]
    }
   ],
   "source": [
    "dna=\"AATGATCGATCGTACGCTGA\"\n",
    "counts={}\n",
    "for base1 in [\"A\",\"C\",\"G\",\"T\"]:\n",
    "\tfor base2 in [\"A\",\"C\",\"G\",\"T\"]:\n",
    "\t\tfor base3 in [\"A\",\"C\",\"G\",\"T\"]:\n",
    "\t\t\ttrinucleotide=base1+base2+base3\n",
    "\t\t\tcount=dna.count(trinucleotide)\n",
    "\t\t\t#add in an if statement so that we can get rid of all the trinucleotides\n",
    "\t\t\t#have a count of 0\n",
    "\t\t\tif count >0:\n",
    "\t\t\t\tcounts[trinucleotide]=count\t\n",
    "print(counts)\n",
    "#print counts for a specific trinucleotide\n",
    "#print(counts[\"TGA\"])\n",
    "for base1 in [\"A\",\"C\",\"G\",\"T\"]:\n",
    "\tfor base2 in [\"A\",\"C\",\"G\",\"T\"]:\n",
    "\t\tfor base3 in [\"A\",\"C\",\"G\",\"T\"]:\n",
    "\t\t\ttrinucleotide=base1+base2+base3\n",
    "\t\t\t#add in an if statement because we only care about trinucleotides\n",
    "\t\t\t#with 2 counts\n",
    "\t\t\t#count=dna.count(trinucleotide)\n",
    "\t\t\t#counts[trinucleotide]=count\n",
    "\t\t\t#if counts.get(trinucleotide,0) == 1 or counts.get(trinucleotide,0) == 2:\n",
    "\t\t\tif counts.get(trinucleotide,0) ==2:\n",
    "\t\t\t\tprint(trinucleotide)\n",
    "print(counts.keys())\n",
    "#print counts for a specific trinucleotide\n",
    "#print(counts[\"TGA\"])\n"
   ]
  },
  {
   "cell_type": "markdown",
   "metadata": {},
   "source": [
    "## ex5c:"
   ]
  },
  {
   "cell_type": "code",
   "execution_count": 15,
   "metadata": {
    "collapsed": false
   },
   "outputs": [
    {
     "name": "stdout",
     "output_type": "stream",
     "text": [
      "{'ATG': 1, 'ACG': 1, 'ATC': 2, 'GTA': 1, 'CGA': 1, 'CGC': 1, 'GAT': 2, 'AAT': 1, 'CTG': 1, 'TGA': 2, 'GCT': 1, 'TAC': 1, 'TCG': 2, 'CGT': 1}\n",
      "ATC\n",
      "GAT\n",
      "TCG\n",
      "TGA\n"
     ]
    }
   ],
   "source": [
    "dna=\"AATGATCGATCGTACGCTGA\"\n",
    "counts={}\n",
    "for base1 in [\"A\",\"C\",\"G\",\"T\"]:\n",
    "\tfor base2 in [\"A\",\"C\",\"G\",\"T\"]:\n",
    "\t\tfor base3 in [\"A\",\"C\",\"G\",\"T\"]:\n",
    "\t\t\ttrinucleotide=base1+base2+base3\n",
    "\t\t\tcount=dna.count(trinucleotide)\n",
    "\t\t\t#add in an if statement so that we can get rid of all the trinucleotides\n",
    "\t\t\t#have a count of 0\n",
    "\t\t\tif count >0:\n",
    "\t\t\t\tcounts[trinucleotide]=count\t\n",
    "print(counts)\n",
    "#print counts for a specific trinucleotide\n",
    "#print(counts[\"TGA\"])\n",
    "#for base1 in [\"A\",\"C\",\"G\",\"T\"]:\n",
    "\t#for base2 in [\"A\",\"C\",\"G\",\"T\"]:\n",
    "\t\t#for base3 in [\"A\",\"C\",\"G\",\"T\"]:\n",
    "\t\t\t#trinucleotide=base1+base2+base3\n",
    "\t\t\t#add in an if statement because we only care about trinucleotides\n",
    "\t\t\t#with 2 counts\n",
    "\t\t\t#if you get rid of the top nested for loops which populate the counts dictionary\n",
    "\t\t\t# you will need to use the following three lines of code to get a dictionary\n",
    "\t\t\t#which contains only items that occur at least once \n",
    "\t\t\t#count=dna.count(trinucleotide)\n",
    "\t\t\t#counts[trinucleotide]=count\n",
    "\t\t\t#if counts.get(trinucleotide,0) == 1 or counts.get(trinucleotide,0) == 2:\n",
    "for trinucleotide in sorted(counts.keys()):\n",
    "\tif counts.get(trinucleotide,0) == 2:\n",
    "\t\t\tprint(trinucleotide)\n",
    "#print(counts.keys())\n",
    "#print counts for a specific trinucleotide\n",
    "#print(counts[\"TGA\"])\n"
   ]
  },
  {
   "cell_type": "markdown",
   "metadata": {},
   "source": [
    "## ex5d:"
   ]
  },
  {
   "cell_type": "code",
   "execution_count": 17,
   "metadata": {
    "collapsed": false
   },
   "outputs": [
    {
     "name": "stdout",
     "output_type": "stream",
     "text": [
      "{'ATG': 1, 'ACG': 1, 'ATC': 2, 'GTA': 1, 'CGA': 1, 'CGC': 1, 'GAT': 2, 'AAT': 1, 'CTG': 1, 'TGA': 2, 'GCT': 1, 'TAC': 1, 'TCG': 2, 'CGT': 1}\n",
      "ATC\n",
      "GAT\n",
      "TCG\n",
      "TGA\n"
     ]
    }
   ],
   "source": [
    "dna=\"AATGATCGATCGTACGCTGA\"\n",
    "counts={}\n",
    "for base1 in [\"A\",\"C\",\"G\",\"T\"]:\n",
    "\tfor base2 in [\"A\",\"C\",\"G\",\"T\"]:\n",
    "\t\tfor base3 in [\"A\",\"C\",\"G\",\"T\"]:\n",
    "\t\t\ttrinucleotide=base1+base2+base3\n",
    "\t\t\tcount=dna.count(trinucleotide)\n",
    "\t\t\t#add in an if statement so that we can get rid of all the trinucleotides\n",
    "\t\t\t#have a count of 0\n",
    "\t\t\tif count >0:\n",
    "\t\t\t\tcounts[trinucleotide]=count\t\n",
    "print(counts)\n",
    "#print counts for a specific trinucleotide\n",
    "#print(counts[\"TGA\"])\n",
    "#for base1 in [\"A\",\"C\",\"G\",\"T\"]:\n",
    "\t#for base2 in [\"A\",\"C\",\"G\",\"T\"]:\n",
    "\t\t#for base3 in [\"A\",\"C\",\"G\",\"T\"]:\n",
    "\t\t\t#trinucleotide=base1+base2+base3\n",
    "\t\t\t#add in an if statement because we only care about trinucleotides\n",
    "\t\t\t#with 2 counts\n",
    "\t\t\t#if you get rid of the top nested for loops which populate the counts dictionary\n",
    "\t\t\t# you will need to use the following three lines of code to get a dictionary\n",
    "\t\t\t#which contains only items that occur at least once \n",
    "\t\t\t#count=dna.count(trinucleotide)\n",
    "\t\t\t#counts[trinucleotide]=count\n",
    "\t\t\t#if counts.get(trinucleotide,0) == 1 or counts.get(trinucleotide,0) == 2:\n",
    "for trinucleotide,count in sorted(counts.items()):\n",
    "\tif count == 2:\n",
    "\t\tprint(trinucleotide)\n",
    "#print(counts.keys())\n",
    "#print counts for a specific trinucleotide\n",
    "#print(counts[\"TGA\"])\n"
   ]
  },
  {
   "cell_type": "markdown",
   "metadata": {},
   "source": [
    "## Lists in Dicts"
   ]
  },
  {
   "cell_type": "code",
   "execution_count": 21,
   "metadata": {
    "collapsed": false
   },
   "outputs": [
    {
     "name": "stdout",
     "output_type": "stream",
     "text": [
      "----------\n",
      "[{'quizzes': [88.0, 40.0, 94.0], 'tests': [75.0, 90.0], 'name': 'Lloyd', 'homework': [90.0, 97.0, 75.0, 92.0]}, {'quizzes': [82.0, 83.0, 91.0], 'tests': [89.0, 97.0], 'name': 'Alice', 'homework': [100.0, 92.0, 98.0, 100.0]}, {'quizzes': [0.0, 75.0, 78.0], 'tests': [100.0, 100.0], 'name': 'Tyler', 'homework': [0.0, 87.0, 75.0, 22.0]}]\n",
      "**********\n",
      "[('quizzes', [0.0, 75.0, 78.0]), ('tests', [100.0, 100.0]), ('name', 'Tyler'), ('homework', [0.0, 87.0, 75.0, 22.0])]\n",
      "..........\n",
      "Lloyd\n",
      "[90.0, 97.0, 75.0, 92.0]\n",
      "[88.0, 40.0, 94.0]\n",
      "[75.0, 90.0]\n",
      "Alice\n",
      "[100.0, 92.0, 98.0, 100.0]\n",
      "[82.0, 83.0, 91.0]\n",
      "[89.0, 97.0]\n",
      "Tyler\n",
      "[0.0, 87.0, 75.0, 22.0]\n",
      "[0.0, 75.0, 78.0]\n",
      "[100.0, 100.0]\n"
     ]
    }
   ],
   "source": [
    "#this intuitive example was stolen off of codeacademy which has a great section on dictionaries\n",
    "lloyd = {\n",
    "    \"name\": \"Lloyd\",\n",
    "    \"homework\": [90.0,97.0,75.0,92.0],\n",
    "    \"quizzes\": [88.0,40.0,94.0],\n",
    "    \"tests\": [75.0,90.0]\n",
    "}\n",
    "alice = {\n",
    "    \"name\": \"Alice\",\n",
    "    \"homework\": [100.0, 92.0, 98.0, 100.0],\n",
    "    \"quizzes\": [82.0, 83.0, 91.0],\n",
    "    \"tests\": [89.0, 97.0]\n",
    "}\n",
    "tyler = {\n",
    "    \"name\": \"Tyler\",\n",
    "    \"homework\": [0.0, 87.0, 75.0, 22.0],\n",
    "    \"quizzes\": [0.0, 75.0, 78.0],\n",
    "    \"tests\": [100.0, 100.0]\n",
    "}\n",
    "#a BIG list of dictionaries\n",
    "students=[lloyd,alice,tyler]\n",
    "#try to print out all the information in the dictionary\n",
    "print(\"-\")*10\n",
    "print(students)\n",
    "print(\"*\")*10\n",
    "#we can also print out the information from a specific dictionary\n",
    "print(tyler.items())\n",
    "print(\".\")*10\n",
    "#this is not really what we want....it's pretty messy\n",
    "for student in students:\n",
    "    print(student[\"name\"])\n",
    "    print(student[\"homework\"])\n",
    "    print(student[\"quizzes\"])\n",
    "    print(student[\"tests\"])\n",
    "\n",
    "\n"
   ]
  },
  {
   "cell_type": "markdown",
   "metadata": {},
   "source": [
    "## Passing dicts functions\n",
    "### Let's determine how much money you would make if you sold all of your food."
   ]
  },
  {
   "cell_type": "code",
   "execution_count": 19,
   "metadata": {
    "collapsed": false
   },
   "outputs": [
    {
     "name": "stdout",
     "output_type": "stream",
     "text": [
      "0\n",
      "orange\n",
      "price: 1.5\n",
      "stock: 32\n",
      "48.0\n",
      "48.0\n",
      "pear\n",
      "price: 3\n",
      "stock: 15\n",
      "45\n",
      "93.0\n",
      "banana\n",
      "price: 4\n",
      "stock: 6\n",
      "24\n",
      "117.0\n",
      "apple\n",
      "price: 2\n",
      "stock: 0\n",
      "0\n",
      "*****\n",
      "117.0\n",
      "-----\n",
      "7.5\n"
     ]
    }
   ],
   "source": [
    "#Let's determine how much money you would make if you sold all of your food.\n",
    "prices = { \"banana\" : 4,  \"apple\"  : 2, \"orange\" : 1.5, \"pear\"   : 3}\n",
    "stock = {\"banana\" : 6,\"apple\"  : 0, \"orange\" : 32, \"pear\"   : 15}\n",
    "total=0\n",
    "for key in prices:\n",
    "    print(total)\n",
    "    print(key)\n",
    "    print(\"price: %s\")%prices[key]\n",
    "    print(\"stock: %s\")%stock[key]\n",
    "    print(prices[key]*stock[key])\n",
    "    total = total + prices[key]*stock[key]\n",
    "\n",
    "print(\"*\")*5\n",
    "print(total)\n",
    "print(\"-\")*5\n",
    "\n",
    "\n",
    "\n",
    "def compute_bill(food):\n",
    "    total = 0\n",
    "    for item in food:\n",
    "        total += prices[item]\n",
    "    return total\n",
    "\n",
    "shopping_list = [\"banana\", \"orange\", \"apple\"]\n",
    "print(compute_bill(shopping_list))\n",
    "\n"
   ]
  },
  {
   "cell_type": "code",
   "execution_count": null,
   "metadata": {
    "collapsed": true
   },
   "outputs": [],
   "source": []
  }
 ],
 "metadata": {
  "anaconda-cloud": {},
  "kernelspec": {
   "display_name": "Python [Root]",
   "language": "python",
   "name": "Python [Root]"
  },
  "language_info": {
   "codemirror_mode": {
    "name": "ipython",
    "version": 2
   },
   "file_extension": ".py",
   "mimetype": "text/x-python",
   "name": "python",
   "nbconvert_exporter": "python",
   "pygments_lexer": "ipython2",
   "version": "2.7.12"
  }
 },
 "nbformat": 4,
 "nbformat_minor": 0
}
