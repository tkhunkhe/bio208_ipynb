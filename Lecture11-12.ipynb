{
 "cells": [
  {
   "cell_type": "markdown",
   "metadata": {},
   "source": [
    "# Lecture 11-12\n",
    "## Recursion and Functional Programming"
   ]
  },
  {
   "cell_type": "markdown",
   "metadata": {},
   "source": [
    "# Recursion\n",
    "A\tfunction\tthat\tcalls\titself\tfrom\twithin\tits\town\tfunction\tdefinition\t"
   ]
  },
  {
   "cell_type": "markdown",
   "metadata": {},
   "source": [
    "## Another way of generating trinucleotides"
   ]
  },
  {
   "cell_type": "code",
   "execution_count": 1,
   "metadata": {
    "collapsed": false
   },
   "outputs": [
    {
     "name": "stdout",
     "output_type": "stream",
     "text": [
      "['AAA', 'AAC', 'AAG', 'AAT', 'ACA', 'ACC', 'ACG', 'ACT', 'AGA', 'AGC', 'AGG', 'AGT', 'ATA', 'ATC', 'ATG', 'ATT', 'CAA', 'CAC', 'CAG', 'CAT', 'CCA', 'CCC', 'CCG', 'CCT', 'CGA', 'CGC', 'CGG', 'CGT', 'CTA', 'CTC', 'CTG', 'CTT', 'GAA', 'GAC', 'GAG', 'GAT', 'GCA', 'GCC', 'GCG', 'GCT', 'GGA', 'GGC', 'GGG', 'GGT', 'GTA', 'GTC', 'GTG', 'GTT', 'TAA', 'TAC', 'TAG', 'TAT', 'TCA', 'TCC', 'TCG', 'TCT', 'TGA', 'TGC', 'TGG', 'TGT', 'TTA', 'TTC', 'TTG', 'TTT']\n"
     ]
    }
   ],
   "source": [
    "def generate_trimers():\t\n",
    "    bases=[\"A\",\"C\",\"G\",\"T\"]\t\n",
    "    result=[]\t\n",
    "    for\tbase1\tin\tbases:\t\n",
    "            for\tbase2\tin\tbases:\t\n",
    "                for\tbase3\tin\tbases:\t\n",
    "                    result.append(base1+base2+base3)\t\n",
    "    return\tresult\t\n",
    "print(generate_trimers())"
   ]
  },
  {
   "cell_type": "markdown",
   "metadata": {},
   "source": [
    "## This\tcode\tis\tefficient\tbut\tnot\tvery\tflexible.\t\n",
    "## What\tif\t we\twanted\tto\tproduce\tkmers instead\tof\ttrimers?"
   ]
  },
  {
   "cell_type": "code",
   "execution_count": 2,
   "metadata": {
    "collapsed": false
   },
   "outputs": [
    {
     "name": "stdout",
     "output_type": "stream",
     "text": [
      "['AAAA', 'AAAC', 'AAAG', 'AAAT', 'AACA', 'AACC', 'AACG', 'AACT', 'AAGA', 'AAGC', 'AAGG', 'AAGT', 'AATA', 'AATC', 'AATG', 'AATT', 'ACAA', 'ACAC', 'ACAG', 'ACAT', 'ACCA', 'ACCC', 'ACCG', 'ACCT', 'ACGA', 'ACGC', 'ACGG', 'ACGT', 'ACTA', 'ACTC', 'ACTG', 'ACTT', 'AGAA', 'AGAC', 'AGAG', 'AGAT', 'AGCA', 'AGCC', 'AGCG', 'AGCT', 'AGGA', 'AGGC', 'AGGG', 'AGGT', 'AGTA', 'AGTC', 'AGTG', 'AGTT', 'ATAA', 'ATAC', 'ATAG', 'ATAT', 'ATCA', 'ATCC', 'ATCG', 'ATCT', 'ATGA', 'ATGC', 'ATGG', 'ATGT', 'ATTA', 'ATTC', 'ATTG', 'ATTT', 'CAAA', 'CAAC', 'CAAG', 'CAAT', 'CACA', 'CACC', 'CACG', 'CACT', 'CAGA', 'CAGC', 'CAGG', 'CAGT', 'CATA', 'CATC', 'CATG', 'CATT', 'CCAA', 'CCAC', 'CCAG', 'CCAT', 'CCCA', 'CCCC', 'CCCG', 'CCCT', 'CCGA', 'CCGC', 'CCGG', 'CCGT', 'CCTA', 'CCTC', 'CCTG', 'CCTT', 'CGAA', 'CGAC', 'CGAG', 'CGAT', 'CGCA', 'CGCC', 'CGCG', 'CGCT', 'CGGA', 'CGGC', 'CGGG', 'CGGT', 'CGTA', 'CGTC', 'CGTG', 'CGTT', 'CTAA', 'CTAC', 'CTAG', 'CTAT', 'CTCA', 'CTCC', 'CTCG', 'CTCT', 'CTGA', 'CTGC', 'CTGG', 'CTGT', 'CTTA', 'CTTC', 'CTTG', 'CTTT', 'GAAA', 'GAAC', 'GAAG', 'GAAT', 'GACA', 'GACC', 'GACG', 'GACT', 'GAGA', 'GAGC', 'GAGG', 'GAGT', 'GATA', 'GATC', 'GATG', 'GATT', 'GCAA', 'GCAC', 'GCAG', 'GCAT', 'GCCA', 'GCCC', 'GCCG', 'GCCT', 'GCGA', 'GCGC', 'GCGG', 'GCGT', 'GCTA', 'GCTC', 'GCTG', 'GCTT', 'GGAA', 'GGAC', 'GGAG', 'GGAT', 'GGCA', 'GGCC', 'GGCG', 'GGCT', 'GGGA', 'GGGC', 'GGGG', 'GGGT', 'GGTA', 'GGTC', 'GGTG', 'GGTT', 'GTAA', 'GTAC', 'GTAG', 'GTAT', 'GTCA', 'GTCC', 'GTCG', 'GTCT', 'GTGA', 'GTGC', 'GTGG', 'GTGT', 'GTTA', 'GTTC', 'GTTG', 'GTTT', 'TAAA', 'TAAC', 'TAAG', 'TAAT', 'TACA', 'TACC', 'TACG', 'TACT', 'TAGA', 'TAGC', 'TAGG', 'TAGT', 'TATA', 'TATC', 'TATG', 'TATT', 'TCAA', 'TCAC', 'TCAG', 'TCAT', 'TCCA', 'TCCC', 'TCCG', 'TCCT', 'TCGA', 'TCGC', 'TCGG', 'TCGT', 'TCTA', 'TCTC', 'TCTG', 'TCTT', 'TGAA', 'TGAC', 'TGAG', 'TGAT', 'TGCA', 'TGCC', 'TGCG', 'TGCT', 'TGGA', 'TGGC', 'TGGG', 'TGGT', 'TGTA', 'TGTC', 'TGTG', 'TGTT', 'TTAA', 'TTAC', 'TTAG', 'TTAT', 'TTCA', 'TTCC', 'TTCG', 'TTCT', 'TTGA', 'TTGC', 'TTGG', 'TTGT', 'TTTA', 'TTTC', 'TTTG', 'TTTT']\n"
     ]
    }
   ],
   "source": [
    "def generate_kmers(length):\t\n",
    "    result=[\"A\",\"C\",\"G\",\"T\"]\t\n",
    "    for\ti\tin\trange(0,length-1):\t\n",
    "            new_result=[]\t\n",
    "            for\tkmer\tin\tresult:\t\n",
    "                for\tbase\tin\t[\"A\",\"C\",\"G\",\"T\"]:\t\n",
    "                    new_result.append(kmer+base)\t\n",
    "            result=new_result\n",
    "    return\tresult\t\n",
    "print(generate_kmers(4))\t"
   ]
  },
  {
   "cell_type": "markdown",
   "metadata": {},
   "source": [
    "## recursive version"
   ]
  },
  {
   "cell_type": "code",
   "execution_count": 3,
   "metadata": {
    "collapsed": false
   },
   "outputs": [
    {
     "name": "stdout",
     "output_type": "stream",
     "text": [
      "['AAAA', 'AAAC', 'AAAG', 'AAAT', 'AACA', 'AACC', 'AACG', 'AACT', 'AAGA', 'AAGC', 'AAGG', 'AAGT', 'AATA', 'AATC', 'AATG', 'AATT', 'ACAA', 'ACAC', 'ACAG', 'ACAT', 'ACCA', 'ACCC', 'ACCG', 'ACCT', 'ACGA', 'ACGC', 'ACGG', 'ACGT', 'ACTA', 'ACTC', 'ACTG', 'ACTT', 'AGAA', 'AGAC', 'AGAG', 'AGAT', 'AGCA', 'AGCC', 'AGCG', 'AGCT', 'AGGA', 'AGGC', 'AGGG', 'AGGT', 'AGTA', 'AGTC', 'AGTG', 'AGTT', 'ATAA', 'ATAC', 'ATAG', 'ATAT', 'ATCA', 'ATCC', 'ATCG', 'ATCT', 'ATGA', 'ATGC', 'ATGG', 'ATGT', 'ATTA', 'ATTC', 'ATTG', 'ATTT', 'CAAA', 'CAAC', 'CAAG', 'CAAT', 'CACA', 'CACC', 'CACG', 'CACT', 'CAGA', 'CAGC', 'CAGG', 'CAGT', 'CATA', 'CATC', 'CATG', 'CATT', 'CCAA', 'CCAC', 'CCAG', 'CCAT', 'CCCA', 'CCCC', 'CCCG', 'CCCT', 'CCGA', 'CCGC', 'CCGG', 'CCGT', 'CCTA', 'CCTC', 'CCTG', 'CCTT', 'CGAA', 'CGAC', 'CGAG', 'CGAT', 'CGCA', 'CGCC', 'CGCG', 'CGCT', 'CGGA', 'CGGC', 'CGGG', 'CGGT', 'CGTA', 'CGTC', 'CGTG', 'CGTT', 'CTAA', 'CTAC', 'CTAG', 'CTAT', 'CTCA', 'CTCC', 'CTCG', 'CTCT', 'CTGA', 'CTGC', 'CTGG', 'CTGT', 'CTTA', 'CTTC', 'CTTG', 'CTTT', 'GAAA', 'GAAC', 'GAAG', 'GAAT', 'GACA', 'GACC', 'GACG', 'GACT', 'GAGA', 'GAGC', 'GAGG', 'GAGT', 'GATA', 'GATC', 'GATG', 'GATT', 'GCAA', 'GCAC', 'GCAG', 'GCAT', 'GCCA', 'GCCC', 'GCCG', 'GCCT', 'GCGA', 'GCGC', 'GCGG', 'GCGT', 'GCTA', 'GCTC', 'GCTG', 'GCTT', 'GGAA', 'GGAC', 'GGAG', 'GGAT', 'GGCA', 'GGCC', 'GGCG', 'GGCT', 'GGGA', 'GGGC', 'GGGG', 'GGGT', 'GGTA', 'GGTC', 'GGTG', 'GGTT', 'GTAA', 'GTAC', 'GTAG', 'GTAT', 'GTCA', 'GTCC', 'GTCG', 'GTCT', 'GTGA', 'GTGC', 'GTGG', 'GTGT', 'GTTA', 'GTTC', 'GTTG', 'GTTT', 'TAAA', 'TAAC', 'TAAG', 'TAAT', 'TACA', 'TACC', 'TACG', 'TACT', 'TAGA', 'TAGC', 'TAGG', 'TAGT', 'TATA', 'TATC', 'TATG', 'TATT', 'TCAA', 'TCAC', 'TCAG', 'TCAT', 'TCCA', 'TCCC', 'TCCG', 'TCCT', 'TCGA', 'TCGC', 'TCGG', 'TCGT', 'TCTA', 'TCTC', 'TCTG', 'TCTT', 'TGAA', 'TGAC', 'TGAG', 'TGAT', 'TGCA', 'TGCC', 'TGCG', 'TGCT', 'TGGA', 'TGGC', 'TGGG', 'TGGT', 'TGTA', 'TGTC', 'TGTG', 'TGTT', 'TTAA', 'TTAC', 'TTAG', 'TTAT', 'TTCA', 'TTCC', 'TTCG', 'TTCT', 'TTGA', 'TTGC', 'TTGG', 'TTGT', 'TTTA', 'TTTC', 'TTTG', 'TTTT']\n"
     ]
    }
   ],
   "source": [
    "def generate_kmers_rec(length):\t\n",
    "    if\tlength==1:\t\n",
    "        return\t[\"A\",\"C\",\"G\",\"T\"]\t\n",
    "    else: #Where\tthe\tmagic\thappens \t\t\t\n",
    "        result=[]\t\n",
    "        for\tseq\tin\tgenerate_kmers_rec(length-1):\t\n",
    "            for\tbase\tin\t[\"A\",\"C\",\"G\",\"T\"]:\t\n",
    "                result.append(seq+base)\t\n",
    "        return\tresult\t\n",
    "print(generate_kmers_rec(4))\t"
   ]
  },
  {
   "cell_type": "markdown",
   "metadata": {},
   "source": [
    "## Represent the tree with dictionary"
   ]
  },
  {
   "cell_type": "markdown",
   "metadata": {},
   "source": [
    "## child-to-parent"
   ]
  },
  {
   "cell_type": "code",
   "execution_count": 13,
   "metadata": {
    "collapsed": false
   },
   "outputs": [
    {
     "name": "stdout",
     "output_type": "stream",
     "text": [
      "{'Tarsiiformes': 'Haplorrhini', 'Galagoalleni': 'Lorisiformes', 'Haplorrhini': 'Primates', 'Simiiformes': 'Haplorrhini', 'Pantroglodytes': 'Hominoidea', 'Strepsirrhini': 'Primates', 'Lorisidae': 'Strepsirrhini', 'Galagomoholi': 'Lorisiformes', 'Lemuriformes': 'Strepsirrhini', 'Lorisiformes': 'Strepsirrhini', 'Loristardigradus': 'Lorisidae', 'Tarsiustarsier': 'Tarsiiformes', 'Pongoabelii': 'Hominoidea', 'Hominoidea': 'Simiiformes', 'Allocebustrichoios': 'Lemuriformes'}\n"
     ]
    }
   ],
   "source": [
    "tax_dict={\"Pantroglodytes\":\"Hominoidea\",\"Pongoabelii\":\"Hominoidea\",\"Hominoidea\":\"Simiiformes\",\"Simiiformes\":\"Haplorrhini\",\"Tarsiustarsier\":\"Tarsiiformes\",\"Haplorrhini\":\"Primates\",\"Tarsiiformes\":\"Haplorrhini\",\"Loristardigradus\":\"Lorisidae\",\"Lorisidae\":\"Strepsirrhini\",\"Strepsirrhini\":\"Primates\",\"Allocebustrichoios\":\"Lemuriformes\",\"Lemuriformes\":\"Strepsirrhini\",\"Galagoalleni\":\"Lorisiformes\",\"Lorisiformes\":\"Strepsirrhini\",\"Galagomoholi\":\"Lorisiformes\"}\t\n",
    "print(tax_dict)\t"
   ]
  },
  {
   "cell_type": "markdown",
   "metadata": {},
   "source": [
    "## iterative version"
   ]
  },
  {
   "cell_type": "code",
   "execution_count": 14,
   "metadata": {
    "collapsed": true
   },
   "outputs": [],
   "source": [
    "# loop\n",
    "# List\tall\tparents\tof\ta\tgiven\ttaxon\t(while\tloop)\t\n",
    "def get_ancestors(taxon):\t\n",
    "    result=[taxon]\t\n",
    "    while\ttaxon\t!=\"Primates\":\t\n",
    "            result.append(tax_dict.get(taxon))\t\n",
    "            taxon\t=tax_dict.get(taxon)\t\n",
    "    return\tresult"
   ]
  },
  {
   "cell_type": "markdown",
   "metadata": {},
   "source": [
    "## recursion"
   ]
  },
  {
   "cell_type": "code",
   "execution_count": 15,
   "metadata": {
    "collapsed": false
   },
   "outputs": [
    {
     "name": "stdout",
     "output_type": "stream",
     "text": [
      "['Hominoidea', 'Simiiformes', 'Haplorrhini', 'Primates', 'Primates']\n"
     ]
    }
   ],
   "source": [
    "def get_ancestors(taxon):\t\n",
    "    if\ttaxon==\"Primates\":\t\n",
    "            return\t[taxon]\t#\tyou\tare\talready\tat\tthe\ttop\tof\tthe\ttree\t\n",
    "    else:\t\n",
    "            parent=tax_dict.get(taxon)\t\n",
    "            parent_ancestors=get_ancestors(parent)\t\n",
    "            return\t[parent]+parent_ancestors\n",
    "\n",
    "print(get_ancestors(\"Pantroglodytes\"))"
   ]
  },
  {
   "cell_type": "markdown",
   "metadata": {},
   "source": [
    "# List\tall\tparents\tof\ta\tgiven\ttaxon\t(recursion\twith\tprint\tstatements!)\t"
   ]
  },
  {
   "cell_type": "code",
   "execution_count": 22,
   "metadata": {
    "collapsed": false
   },
   "outputs": [
    {
     "name": "stdout",
     "output_type": "stream",
     "text": [
      "calculating\tancestors\tfor\tGalagoalleni\n",
      "Taxon\tis\tnot\tPrimates\tso\tit\tmust\thave\tat\tleast\tone\tancestor\n",
      "The\tparent\tis\tLorisiformes\t\n",
      "Looking\tup\tancestors\tfor\tLorisiformes\n",
      "\tcalculating\tancestors\tfor\tLorisiformes\n",
      "\tTaxon\tis\tnot\tPrimates\tso\tit\tmust\thave\tat\tleast\tone\tancestor\n",
      "\tThe\tparent\tis\tStrepsirrhini\t\n",
      "\tLooking\tup\tancestors\tfor\tStrepsirrhini\n",
      "\t\tcalculating\tancestors\tfor\tStrepsirrhini\n",
      "\t\tTaxon\tis\tnot\tPrimates\tso\tit\tmust\thave\tat\tleast\tone\tancestor\n",
      "\t\tThe\tparent\tis\tPrimates\t\n",
      "\t\tLooking\tup\tancestors\tfor\tPrimates\n",
      "\t\t\tcalculating\tancestors\tfor\tPrimates\n",
      "\t\t\tTaxon\tis\tPrimates\t-\tyou\tare\tthe\ttop\tof\tthis\tphylogeny\talready!\n",
      "\t\tparents\tancestors\tare\t[]\n",
      "\t\tabout\tto\treturn\tthe\tresult:\t['Primates']\n",
      "\tparents\tancestors\tare\t['Primates']\n",
      "\tabout\tto\treturn\tthe\tresult:\t['Strepsirrhini', 'Primates']\n",
      "parents\tancestors\tare\t['Strepsirrhini', 'Primates']\n",
      "about\tto\treturn\tthe\tresult:\t['Lorisiformes', 'Strepsirrhini', 'Primates']\n",
      "['Lorisiformes', 'Strepsirrhini', 'Primates']\n"
     ]
    }
   ],
   "source": [
    "def get_ancestors(taxon,depth):\t\n",
    "    spacer=\"\t\"*depth\t\n",
    "    print(spacer+\"calculating\tancestors\tfor\t\"+taxon)\t\n",
    "    if\ttaxon==\"Primates\":\t\n",
    "            print\t(spacer+\"Taxon\tis\tPrimates\t-\tyou\tare\tthe\ttop\tof\tthis\tphylogeny\talready!\")\t\n",
    "            return\t[]\t#\tyou\tare\talready\tat\tthe\ttop\tof\tthe\ttree\t\n",
    "    else:\t\n",
    "            print(spacer+\"Taxon\tis\tnot\tPrimates\tso\tit\tmust\thave\tat\tleast\tone\tancestor\")\t\n",
    "            parent=tax_dict.get(taxon)\t\n",
    "            print(spacer+\"The\tparent\tis\t\"+parent+\"\t\")\t\n",
    "            print(spacer+\"Looking\tup\tancestors\tfor\t\"+parent)\t\n",
    "            parent_ancestors=get_ancestors(parent,depth+1)\t\n",
    "            print(spacer+\"parents\tancestors\tare\t\"+str(parent_ancestors))\t\n",
    "            result=[parent]+parent_ancestors\n",
    "            print(spacer+\"about\tto\treturn\tthe\tresult:\t\"+str(result))\t\n",
    "            return\tresult\t\n",
    "        \n",
    "print(get_ancestors(\"Galagoalleni\",0))\t"
   ]
  },
  {
   "cell_type": "markdown",
   "metadata": {},
   "source": [
    "### parent-to-child"
   ]
  },
  {
   "cell_type": "code",
   "execution_count": 24,
   "metadata": {
    "collapsed": true
   },
   "outputs": [],
   "source": [
    "tax_dict={\"Strepsirrhini\":[\"Lorididae\",\"Lemuriformes\",\"Lorisiformes\"]}"
   ]
  },
  {
   "cell_type": "markdown",
   "metadata": {},
   "source": [
    "## using iteration"
   ]
  },
  {
   "cell_type": "code",
   "execution_count": 26,
   "metadata": {
    "collapsed": false
   },
   "outputs": [
    {
     "name": "stdout",
     "output_type": "stream",
     "text": [
      "['Tarsiiformes', 'Tarsiustarsier']\n"
     ]
    }
   ],
   "source": [
    "def get_children(taxon):\t\n",
    "    result=[]\t\n",
    "    stack=[taxon]\t\n",
    "    while\tlen(stack)\t!=0:\t\n",
    "            current_taxon=stack.pop()\t\n",
    "            current_taxon_children=new_tax_dict.get(current_taxon,[])\t\n",
    "            stack.extend(current_taxon_children)\t\n",
    "            result.append(current_taxon)\n",
    "    return\tresult\t\n",
    "new_tax_dict={\"Primates\":[\"Haplorrhini\",\"Strepsirrhini\"],\"Tarsiiformes\":\n",
    "[\"Tarsiustarsier\"],\"Haplorrhini\":\n",
    "[\"Tarsiiformes\",\"Simiiformes\"],\"Simiiformes\":[\"Hominoidea\"],\"Lorisidae\":\n",
    "[\"Loristardigradus\"],\"Lemuriformes\":[\"Allocebustrichotis\"],\"Lorisiformes\":[\"Galago alleni\",\"Galagomoholi\"],\"Hominoidea\":[\"Pongo abelii\",\"Pantroglodytes\"],\"Strepsirrhini\":[\"Lorisidae\",\"Lemuriformes\",\"Lorisiformes\"]}\t\n",
    "print(get_children(\"Tarsiiformes\"))\t"
   ]
  },
  {
   "cell_type": "markdown",
   "metadata": {},
   "source": [
    "## using recursion"
   ]
  },
  {
   "cell_type": "code",
   "execution_count": 27,
   "metadata": {
    "collapsed": false
   },
   "outputs": [
    {
     "name": "stdout",
     "output_type": "stream",
     "text": [
      "['Tarsiiformes', 'Tarsiustarsier']\n"
     ]
    }
   ],
   "source": [
    "def get_children_rec(taxon):\t\n",
    "    result=[taxon]\t\n",
    "    children=new_tax_dict.get(taxon,[])\t\n",
    "    for\tchild\tin\tchildren:\t\n",
    "            result.extend(get_children_rec(child))\n",
    "    return\tresult\t\n",
    "print(get_children_rec(\"Tarsiiformes\"))\t"
   ]
  },
  {
   "cell_type": "markdown",
   "metadata": {},
   "source": [
    "# Functional Programming"
   ]
  },
  {
   "cell_type": "code",
   "execution_count": 29,
   "metadata": {
    "collapsed": false
   },
   "outputs": [
    {
     "name": "stdout",
     "output_type": "stream",
     "text": [
      "[0, 3, 6, 9, 12, 15]\n"
     ]
    }
   ],
   "source": [
    "my_list\t=\trange(16)\t\n",
    "print(filter(lambda\tx:\tx\t%\t3\t==\t0,\tmy_list))"
   ]
  },
  {
   "cell_type": "markdown",
   "metadata": {},
   "source": [
    "In\tthe\tabove\texample\twe\tare\tpassing\tthe\tlambda\tfunction\tto\t‘filter’.\tThe\tlambda\tfunction\tis\tequivalent\tto:\t\n",
    "\n",
    "`def by_three(x):\t\n",
    "\treturn\tx\t%\t3\t==\t0`"
   ]
  },
  {
   "cell_type": "code",
   "execution_count": 31,
   "metadata": {
    "collapsed": false
   },
   "outputs": [
    {
     "name": "stdout",
     "output_type": "stream",
     "text": [
      "[3, 5, 6, 9, 10, 12, 15]\n"
     ]
    }
   ],
   "source": [
    "threes_and_fives=filter(lambda\tx:\tx%3==0\tor\tx%5==0,\trange(1,16))\t\n",
    "print(threes_and_fives)\t"
   ]
  },
  {
   "cell_type": "markdown",
   "metadata": {},
   "source": [
    "## example of variable with state"
   ]
  },
  {
   "cell_type": "code",
   "execution_count": 33,
   "metadata": {
    "collapsed": false
   },
   "outputs": [
    {
     "name": "stdout",
     "output_type": "stream",
     "text": [
      "0\n",
      "45\n"
     ]
    }
   ],
   "source": [
    "x=0\t\n",
    "print(x)\t\n",
    "for\ti\tin\trange(10):\t\n",
    "\t \tx=x+i\n",
    "print(x)"
   ]
  },
  {
   "cell_type": "markdown",
   "metadata": {},
   "source": [
    "## stateless\n",
    "- value of x is set once and is never changed"
   ]
  },
  {
   "cell_type": "code",
   "execution_count": 34,
   "metadata": {
    "collapsed": false
   },
   "outputs": [
    {
     "name": "stdout",
     "output_type": "stream",
     "text": [
      "45\n"
     ]
    }
   ],
   "source": [
    "x=sum(range(10))\t\n",
    "print(x)"
   ]
  },
  {
   "cell_type": "markdown",
   "metadata": {},
   "source": [
    "## Example\twith\tside\teffects"
   ]
  },
  {
   "cell_type": "code",
   "execution_count": 37,
   "metadata": {
    "collapsed": false
   },
   "outputs": [
    {
     "name": "stdout",
     "output_type": "stream",
     "text": [
      "['Hello', 'Hola', 'Bonjour']\n",
      "['Hello', 'Hola', 'Bonjour', 'a', 'b', 'c']\n",
      "['Hello', 'Hola', 'Bonjour', 'a', 'b', 'c']\n"
     ]
    }
   ],
   "source": [
    "def my_function(i):\t\n",
    "    i.extend([\"a\",\"b\",\"c\"])\t\n",
    "    return(i)\t\n",
    "my_list=[\"Hello\",\"Hola\",\"Bonjour\"]\t\n",
    "print(my_list)\t\n",
    "print(my_function(my_list))\t\n",
    "print(my_list)\t"
   ]
  },
  {
   "cell_type": "markdown",
   "metadata": {},
   "source": [
    "## example without side effects"
   ]
  },
  {
   "cell_type": "code",
   "execution_count": 39,
   "metadata": {
    "collapsed": false
   },
   "outputs": [
    {
     "name": "stdout",
     "output_type": "stream",
     "text": [
      "['Hello', 'Hola', 'Bonjour']\n",
      "['Hello', 'Hola', 'Bonjour', 'a', 'b', 'c']\n",
      "['Hello', 'Hola', 'Bonjour']\n"
     ]
    }
   ],
   "source": [
    "def my_function(i):\t\n",
    "    return(i+\t[\"a\",\"b\",\"c\"])\t\n",
    "my_list=[\"Hello\",\"Hola\",\"Bonjour\"]\t\n",
    "print(my_list)\t\n",
    "print(my_function(my_list))\t\n",
    "print(my_list)\t"
   ]
  },
  {
   "cell_type": "markdown",
   "metadata": {},
   "source": [
    "# What’s\tthe\tbig\tdeal\tabout\tside-effects?\t\n",
    "- see the slides"
   ]
  },
  {
   "cell_type": "markdown",
   "metadata": {},
   "source": [
    "# Pure\tfunctions\t\n",
    "• Have\tno\tside-effects\t\n",
    "• Easier\tto\treason\tabout\twhat\ta\tprogram\tis\tdoing\t\n",
    "• Ensures\tprogram\tis\tmore\tpredictable\t"
   ]
  },
  {
   "cell_type": "markdown",
   "metadata": {},
   "source": [
    "## procedural code vs functional code\n",
    "- see the slides"
   ]
  },
  {
   "cell_type": "markdown",
   "metadata": {},
   "source": [
    "# function as object"
   ]
  },
  {
   "cell_type": "markdown",
   "metadata": {},
   "source": [
    "# Example\tof\thigher\torder\tfunction"
   ]
  },
  {
   "cell_type": "code",
   "execution_count": 40,
   "metadata": {
    "collapsed": true
   },
   "outputs": [],
   "source": [
    "def print_list_fun(my_list,my_function):\t\n",
    "    for\telement\tin\tmy_list:\t\n",
    "            print(my_function(element))\t"
   ]
  },
  {
   "cell_type": "code",
   "execution_count": 41,
   "metadata": {
    "collapsed": false
   },
   "outputs": [
    {
     "name": "stdout",
     "output_type": "stream",
     "text": [
      "['Hello', 'Hola', 'Bonjour']\n",
      "['Hello', 'Hola', 'Bonjour', 'a', 'b', 'c']\n",
      "['Hello', 'Hola', 'Bonjour', 'a', 'b', 'c']\n",
      "5\n",
      "4\n",
      "7\n",
      "1\n",
      "1\n",
      "1\n",
      "None\n"
     ]
    }
   ],
   "source": [
    "def my_function(i):\t\n",
    "    i.extend([\"a\",\"b\",\"c\"])\t\n",
    "    return(i)\t\n",
    "def print_list_fun(my_list,len):\t\n",
    "    for\telement\tin\tmy_list:\t\n",
    "            print(len(element))\t\n",
    "my_list=[\"Hello\",\"Hola\",\"Bonjour\"]\t\n",
    "print(my_list)\t\n",
    "print(my_function(my_list))\t\n",
    "print(my_list)\t\n",
    "print(print_list_fun(my_list,len))\t"
   ]
  },
  {
   "cell_type": "code",
   "execution_count": 46,
   "metadata": {
    "collapsed": false
   },
   "outputs": [
    {
     "name": "stdout",
     "output_type": "stream",
     "text": [
      "['Hello', 'Hola', 'Bonjour']\n",
      "['Hello', 'Hola', 'Bonjour', 'a', 'b', 'c']\n",
      "['Hello', 'Hola', 'Bonjour', 'a', 'b', 'c']\n",
      "**********\n",
      "e\n",
      "o\n",
      "o\n"
     ]
    },
    {
     "ename": "IndexError",
     "evalue": "string index out of range",
     "output_type": "error",
     "traceback": [
      "\u001b[0;31m---------------------------------------------------------------------------\u001b[0m",
      "\u001b[0;31mIndexError\u001b[0m                                Traceback (most recent call last)",
      "\u001b[0;32m<ipython-input-46-f8ce3b009213>\u001b[0m in \u001b[0;36m<module>\u001b[0;34m()\u001b[0m\n\u001b[1;32m     13\u001b[0m \u001b[0;32mprint\u001b[0m\u001b[0;34m(\u001b[0m\u001b[0mmy_list\u001b[0m\u001b[0;34m)\u001b[0m\u001b[0;34m\u001b[0m\u001b[0m\n\u001b[1;32m     14\u001b[0m \u001b[0;32mprint\u001b[0m\u001b[0;34m(\u001b[0m\u001b[0;34m\"**********\"\u001b[0m\u001b[0;34m)\u001b[0m\u001b[0;34m\u001b[0m\u001b[0m\n\u001b[0;32m---> 15\u001b[0;31m \u001b[0;32mprint\u001b[0m\u001b[0;34m(\u001b[0m\u001b[0mprint_list_fun\u001b[0m\u001b[0;34m(\u001b[0m\u001b[0mmy_list\u001b[0m\u001b[0;34m,\u001b[0m\u001b[0mget_second\u001b[0m\u001b[0;34m)\u001b[0m\u001b[0;34m)\u001b[0m\u001b[0;34m\u001b[0m\u001b[0m\n\u001b[0m",
      "\u001b[0;32m<ipython-input-46-f8ce3b009213>\u001b[0m in \u001b[0;36mprint_list_fun\u001b[0;34m(my_list, get_second)\u001b[0m\n\u001b[1;32m      1\u001b[0m \u001b[0;32mdef\u001b[0m \u001b[0mprint_list_fun\u001b[0m\u001b[0;34m(\u001b[0m\u001b[0mmy_list\u001b[0m\u001b[0;34m,\u001b[0m\u001b[0mget_second\u001b[0m\u001b[0;34m)\u001b[0m\u001b[0;34m:\u001b[0m\u001b[0;34m\u001b[0m\u001b[0m\n\u001b[1;32m      2\u001b[0m     \u001b[0;32mfor\u001b[0m \u001b[0melement\u001b[0m \u001b[0;32min\u001b[0m      \u001b[0mmy_list\u001b[0m\u001b[0;34m:\u001b[0m\u001b[0;34m\u001b[0m\u001b[0m\n\u001b[0;32m----> 3\u001b[0;31m         \u001b[0;32mprint\u001b[0m\u001b[0;34m(\u001b[0m\u001b[0mget_second\u001b[0m\u001b[0;34m(\u001b[0m\u001b[0melement\u001b[0m\u001b[0;34m)\u001b[0m\u001b[0;34m)\u001b[0m\u001b[0;34m\u001b[0m\u001b[0m\n\u001b[0m\u001b[1;32m      4\u001b[0m \u001b[0;32mdef\u001b[0m \u001b[0mget_second\u001b[0m\u001b[0;34m(\u001b[0m\u001b[0mmy_list\u001b[0m\u001b[0;34m)\u001b[0m\u001b[0;34m:\u001b[0m\u001b[0;34m\u001b[0m\u001b[0m\n\u001b[1;32m      5\u001b[0m     \u001b[0;32mreturn\u001b[0m      \u001b[0mmy_list\u001b[0m\u001b[0;34m[\u001b[0m\u001b[0;36m1\u001b[0m\u001b[0;34m]\u001b[0m\u001b[0;34m\u001b[0m\u001b[0m\n",
      "\u001b[0;32m<ipython-input-46-f8ce3b009213>\u001b[0m in \u001b[0;36mget_second\u001b[0;34m(my_list)\u001b[0m\n\u001b[1;32m      3\u001b[0m         \u001b[0;32mprint\u001b[0m\u001b[0;34m(\u001b[0m\u001b[0mget_second\u001b[0m\u001b[0;34m(\u001b[0m\u001b[0melement\u001b[0m\u001b[0;34m)\u001b[0m\u001b[0;34m)\u001b[0m\u001b[0;34m\u001b[0m\u001b[0m\n\u001b[1;32m      4\u001b[0m \u001b[0;32mdef\u001b[0m \u001b[0mget_second\u001b[0m\u001b[0;34m(\u001b[0m\u001b[0mmy_list\u001b[0m\u001b[0;34m)\u001b[0m\u001b[0;34m:\u001b[0m\u001b[0;34m\u001b[0m\u001b[0m\n\u001b[0;32m----> 5\u001b[0;31m     \u001b[0;32mreturn\u001b[0m      \u001b[0mmy_list\u001b[0m\u001b[0;34m[\u001b[0m\u001b[0;36m1\u001b[0m\u001b[0;34m]\u001b[0m\u001b[0;34m\u001b[0m\u001b[0m\n\u001b[0m\u001b[1;32m      6\u001b[0m \u001b[0;32mdef\u001b[0m \u001b[0mmy_function\u001b[0m\u001b[0;34m(\u001b[0m\u001b[0mi\u001b[0m\u001b[0;34m)\u001b[0m\u001b[0;34m:\u001b[0m\u001b[0;34m\u001b[0m\u001b[0m\n\u001b[1;32m      7\u001b[0m     \u001b[0mi\u001b[0m\u001b[0;34m.\u001b[0m\u001b[0mextend\u001b[0m\u001b[0;34m(\u001b[0m\u001b[0;34m[\u001b[0m\u001b[0;34m\"a\"\u001b[0m\u001b[0;34m,\u001b[0m\u001b[0;34m\"b\"\u001b[0m\u001b[0;34m,\u001b[0m\u001b[0;34m\"c\"\u001b[0m\u001b[0;34m]\u001b[0m\u001b[0;34m)\u001b[0m\u001b[0;34m\u001b[0m\u001b[0m\n",
      "\u001b[0;31mIndexError\u001b[0m: string index out of range"
     ]
    }
   ],
   "source": [
    "def print_list_fun(my_list,get_second):\t\n",
    "    for\telement\tin\tmy_list:\t\n",
    "        print(get_second(element))\t\n",
    "def get_second(my_list):\t\n",
    "    return\tmy_list[1]\t\n",
    "def my_function(i):\t\n",
    "    i.extend([\"a\",\"b\",\"c\"])\t\n",
    "    return(i)\t\n",
    "my_list=[\"Hello\",\"Hola\",\"Bonjour\"]\t\n",
    "\n",
    "print(my_list)\t\n",
    "print(my_function(my_list))\t\n",
    "print(my_list)\t\n",
    "print(\"**********\")\t\n",
    "print(print_list_fun(my_list,get_second))"
   ]
  },
  {
   "cell_type": "markdown",
   "metadata": {},
   "source": [
    "# Lambda expression"
   ]
  },
  {
   "cell_type": "code",
   "execution_count": 49,
   "metadata": {
    "collapsed": true
   },
   "outputs": [],
   "source": [
    "get_second=lambda(my_list)\t:\tmy_list[1]\t\n",
    "\n",
    "# this is doing \n",
    "# def get_second(my_list):\t\n",
    "#     return\tmy_list[1]\t"
   ]
  },
  {
   "cell_type": "markdown",
   "metadata": {},
   "source": [
    "# Anonymous\tfunctions\t"
   ]
  },
  {
   "cell_type": "code",
   "execution_count": 47,
   "metadata": {
    "collapsed": false
   },
   "outputs": [
    {
     "name": "stdout",
     "output_type": "stream",
     "text": [
      "(['Hello', 'Hola', 'Bonjour', 'a', 'b', 'c'], <function <lambda> at 0x103fa8500>)\n"
     ]
    }
   ],
   "source": [
    "print(my_list,lambda(my_list):my_list[1])\t"
   ]
  },
  {
   "cell_type": "markdown",
   "metadata": {},
   "source": [
    "# build-in high order function\n",
    "- map\n",
    "- filter\n",
    "- sort\n",
    "- etc -->  libraries\n",
    "\n",
    "----- see the slides"
   ]
  },
  {
   "cell_type": "code",
   "execution_count": null,
   "metadata": {
    "collapsed": true
   },
   "outputs": [],
   "source": []
  }
 ],
 "metadata": {
  "kernelspec": {
   "display_name": "Python [Root]",
   "language": "python",
   "name": "Python [Root]"
  },
  "language_info": {
   "codemirror_mode": {
    "name": "ipython",
    "version": 2
   },
   "file_extension": ".py",
   "mimetype": "text/x-python",
   "name": "python",
   "nbconvert_exporter": "python",
   "pygments_lexer": "ipython2",
   "version": "2.7.12"
  }
 },
 "nbformat": 4,
 "nbformat_minor": 0
}
