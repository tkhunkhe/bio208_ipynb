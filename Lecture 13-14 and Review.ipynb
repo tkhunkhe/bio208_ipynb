{
 "cells": [
  {
   "cell_type": "markdown",
   "metadata": {},
   "source": [
    "# Lecture 13-14 and Review (only for the difficult part)"
   ]
  },
  {
   "cell_type": "markdown",
   "metadata": {},
   "source": [
    "# Lambda"
   ]
  },
  {
   "cell_type": "code",
   "execution_count": 3,
   "metadata": {
    "collapsed": false
   },
   "outputs": [
    {
     "name": "stdout",
     "output_type": "stream",
     "text": [
      "5\n"
     ]
    }
   ],
   "source": [
    "fun_lam_ex = lambda x,y: x+y\n",
    "print fun_lam_ex(2,3)"
   ]
  },
  {
   "cell_type": "markdown",
   "metadata": {},
   "source": [
    "# Use lambda with filter"
   ]
  },
  {
   "cell_type": "code",
   "execution_count": 21,
   "metadata": {
    "collapsed": false
   },
   "outputs": [
    {
     "name": "stdout",
     "output_type": "stream",
     "text": [
      "[0, 3, 6, 9, 12, 15]\n",
      "['ACGTATCGC', 'ACGGCTAG']\n"
     ]
    }
   ],
   "source": [
    "my_list = range(16)\n",
    "print(filter(lambda\tx:x%3==0,my_list)) # this is an example of functional programming\n",
    "# functional programming means that you can treat functions as variables and pass them to other functions in the pipeline\n",
    "# functional programming avoids writting functions with side effects (another way of saying that the state of variable is changed during the execution of the program)\n",
    "\n",
    "\n",
    "## another example\n",
    "def is_long (dna):\n",
    "    return len(dna) > 5\n",
    "dna_list = [\"TAGC\",\"ACGTATCGC\",\"ATG\",\"ACGGCTAG\"]\n",
    "long_dna = filter(is_long, dna_list)\n",
    "print long_dna"
   ]
  },
  {
   "cell_type": "markdown",
   "metadata": {},
   "source": [
    "## review side effects"
   ]
  },
  {
   "cell_type": "code",
   "execution_count": 31,
   "metadata": {
    "collapsed": false
   },
   "outputs": [
    {
     "name": "stdout",
     "output_type": "stream",
     "text": [
      "['Hello', 'Hola', 'Bonjour']\n",
      "['Hello', 'Hola', 'Bonjour', 'a', 'b', 'c']\n",
      "['Hello', 'Hola', 'Bonjour', 'a', 'b', 'c']\n",
      "\n",
      "['Hello2', 'Hola2', 'Bonjour2']\n",
      "['Hello2', 'Hola2', 'Bonjour2', 'a', 'b', 'c']\n",
      "['Hello2', 'Hola2', 'Bonjour2']\n"
     ]
    }
   ],
   "source": [
    "# example with side effect\n",
    "def my_function(i):\n",
    "    i.extend([\"a\",\"b\",\"c\"])\n",
    "    return(i)\n",
    "my_list=[\"Hello\",\"Hola\",\"Bonjour\"]\n",
    "print(my_list)\n",
    "print(my_function(my_list))\n",
    "print(my_list) # see that the original my list is changed \n",
    "print\n",
    "\n",
    "# example without side effect ... the idea of functional programming\n",
    "def my_function2(i):\t\n",
    "    return(i+[\"a\",\"b\",\"c\"])\n",
    "my_list=[\"Hello2\",\"Hola2\",\"Bonjour2\"]\n",
    "print(my_list)\n",
    "print(my_function2(my_list))\n",
    "print(my_list) # we didn't change the original my_list\n",
    "\n",
    "# so what's big deal with side effect?\n",
    "# well, you want the function to return the same output if the same input is given. \n",
    "# If your function has side effect and if your function calls other function, then you have no idea what the value of the vairable is at different point of yur program"
   ]
  },
  {
   "cell_type": "markdown",
   "metadata": {},
   "source": [
    "# Use lambda with map"
   ]
  },
  {
   "cell_type": "code",
   "execution_count": 4,
   "metadata": {
    "collapsed": false
   },
   "outputs": [
    {
     "name": "stdout",
     "output_type": "stream",
     "text": [
      "[0.5, 0.4444444444444444, 0.6666666666666666, 0.375]\n"
     ]
    }
   ],
   "source": [
    "# map syntax is map(function, list)\n",
    "# lambda  function is often used in map\n",
    "from __future__ import division\n",
    "dna_list = [\"TAGC\",\"ACGTATCGC\",\"ATG\",\"ACGGCTAG\"]\n",
    "lengths = map(len, dna_list)\n",
    "at_contents = map(lambda dna:(dna.count(\"A\")+dna.count(\"T\"))/len(dna), dna_list)\n",
    "print (at_contents)"
   ]
  },
  {
   "cell_type": "markdown",
   "metadata": {},
   "source": [
    "### side note\n",
    "- anonymous function = Lambda\texpressions\tthat are not assigned to a variable"
   ]
  },
  {
   "cell_type": "markdown",
   "metadata": {},
   "source": [
    "# List comprehension"
   ]
  },
  {
   "cell_type": "code",
   "execution_count": 10,
   "metadata": {
    "collapsed": false
   },
   "outputs": [
    {
     "name": "stdout",
     "output_type": "stream",
     "text": [
      "[4, 9, 3, 8]\n"
     ]
    }
   ],
   "source": [
    "# list comprehension resembles a backward for forloop\n",
    "dna_list=[\"TAGC\",\"ACGTATCGC\",\"ATG\",\"ACGGCTAG\"]\n",
    "lengths = [len(dna) for dna in dna_list]\n",
    "print lengths"
   ]
  },
  {
   "cell_type": "markdown",
   "metadata": {},
   "source": [
    "# List comprehension with condition"
   ]
  },
  {
   "cell_type": "code",
   "execution_count": 11,
   "metadata": {
    "collapsed": false
   },
   "outputs": [
    {
     "name": "stdout",
     "output_type": "stream",
     "text": [
      "[9, 3, 8]\n"
     ]
    }
   ],
   "source": [
    "dna_list=[\"TAGC\",\"ACGTATCGC\",\"ATG\",\"ACGGCTAG\"]\n",
    "lengths = [len(dna) for dna in dna_list if dna.startswith(\"A\")]\n",
    "print lengths"
   ]
  },
  {
   "cell_type": "markdown",
   "metadata": {},
   "source": [
    "# List comprehension that resembles nested forloop"
   ]
  },
  {
   "cell_type": "code",
   "execution_count": 13,
   "metadata": {
    "collapsed": false
   },
   "outputs": [
    {
     "name": "stdout",
     "output_type": "stream",
     "text": [
      "['AA', 'AT', 'AC', 'AG', 'TA', 'TT', 'TC', 'TG', 'CA', 'CT', 'CC', 'CG', 'GA', 'GT', 'GC', 'GG']\n"
     ]
    }
   ],
   "source": [
    "bases=[\"A\",\"T\",\"C\",\"G\"]\t\n",
    "dn=[base1+base2 for base1 in bases for base2 in bases]\n",
    "print dn"
   ]
  },
  {
   "cell_type": "markdown",
   "metadata": {},
   "source": [
    "# Sort"
   ]
  },
  {
   "cell_type": "code",
   "execution_count": null,
   "metadata": {
    "collapsed": true
   },
   "outputs": [],
   "source": [
    "dna_list=[\"TAGC\",\"ACGTATCGC\",\"ATG\",\"ACGGCTAG\"]\n",
    "sorted_dna=sorted(dna_list,key=len,reverse=True)\n",
    "print(sorted_dna)\n",
    "print(dna_list)"
   ]
  },
  {
   "cell_type": "markdown",
   "metadata": {},
   "source": [
    "# reduce\n",
    "- reduce(function, list) --> reduce list into a single value with a function"
   ]
  },
  {
   "cell_type": "code",
   "execution_count": 33,
   "metadata": {
    "collapsed": false
   },
   "outputs": [
    {
     "name": "stdout",
     "output_type": "stream",
     "text": [
      "5760\n"
     ]
    }
   ],
   "source": [
    "def multiply(x,y):\n",
    "    return x*y\n",
    "numbers=[2,6,3,8,5,4]\n",
    "print(reduce(multiply,numbers))"
   ]
  },
  {
   "cell_type": "markdown",
   "metadata": {},
   "source": [
    "# Combine functions"
   ]
  },
  {
   "cell_type": "code",
   "execution_count": 39,
   "metadata": {
    "collapsed": false
   },
   "outputs": [
    {
     "name": "stdout",
     "output_type": "stream",
     "text": [
      "['A', 'B', 'C', 'D', 'E', 'F']\n",
      "['A', 'B']\n"
     ]
    }
   ],
   "source": [
    "first=map(lambda x:x.upper(),\"abcdef\")\n",
    "print first\n",
    "second=filter(lambda x:x\tin[\"A\",\"B\"],first)\n",
    "print second"
   ]
  },
  {
   "cell_type": "markdown",
   "metadata": {},
   "source": [
    "# Dictionary comprehension"
   ]
  },
  {
   "cell_type": "code",
   "execution_count": 19,
   "metadata": {
    "collapsed": false
   },
   "outputs": [
    {
     "name": "stdout",
     "output_type": "stream",
     "text": [
      "{8: 9, 9: 10, 6: 7, 7: 8}\n",
      "set([8, 9, 10, 7])\n"
     ]
    }
   ],
   "source": [
    "d={x:x+1 for x in range(10) if x>5}\n",
    "print d # see that it doesn't put the elements in in-order\n",
    "\n",
    "### set comprehension -> look similar (use {} ) but only putting in an element that is not key-value pair\n",
    "s={x+1 for x in range(10) if x>5}\n",
    "print s\n"
   ]
  },
  {
   "cell_type": "markdown",
   "metadata": {},
   "source": [
    "# Iterator\n",
    "- can be defined in the class that we want to be an iterable class"
   ]
  },
  {
   "cell_type": "code",
   "execution_count": 20,
   "metadata": {
    "collapsed": false
   },
   "outputs": [
    {
     "name": "stdout",
     "output_type": "stream",
     "text": [
      "a\n",
      "t\n",
      "g\n",
      "c\n",
      "c\n",
      "g\n",
      "c\n",
      "a\n",
      "t\n"
     ]
    }
   ],
   "source": [
    "class DNASequence():\n",
    "    sequence=\"atgccgcat\"\n",
    "    def __iter__(self):\n",
    "        return iter(self.sequence)\n",
    "my_seq=DNASequence() # create an interable object of class DNASequence and call it my_seq\n",
    "for base in my_seq: # this forloop will not work if you don't define iterator in the class\n",
    "    print base"
   ]
  },
  {
   "cell_type": "markdown",
   "metadata": {},
   "source": [
    "# Generator\n",
    "- similar to method but use the code word `yield` instead of `return`. This results in returning the results one at a time."
   ]
  },
  {
   "cell_type": "markdown",
   "metadata": {},
   "source": [
    "-----------\n",
    "# Object Oriented \n",
    "-----------"
   ]
  },
  {
   "cell_type": "markdown",
   "metadata": {},
   "source": [
    "- object is an instance of a particular class"
   ]
  },
  {
   "cell_type": "code",
   "execution_count": 45,
   "metadata": {
    "collapsed": false
   },
   "outputs": [
    {
     "name": "stdout",
     "output_type": "stream",
     "text": [
      "Created a record for ABC1 from Drosophila melanogaster\n",
      "AT is 0.565217391304\n",
      "Complementary strand is TGACTAGCAATGCATGCTCAGTA\n"
     ]
    }
   ],
   "source": [
    "from __future__ import division\n",
    "class DNARecord(object): # class className(parentClass)\n",
    "    #--> so here we are declaring class called DNARecord and inherit properties from object (parent class here)\n",
    "    # if you're using python3, you just jave to do `class DNARecord()`\n",
    "    sequence=\"ACTGATCGTTACGTACGAGTCAT\" \n",
    "    gene_name=\"ABC1\"\n",
    "    species_name=\"Drosophila melanogaster\"\n",
    "    # we will replace these three lines above with a constructor so we can create new instances of DNARecord with\n",
    "    # different properties, not just all sequence=\"ACTGATCGTTACGTACGAGTCAT\", gene_name=\"ABC1\", \n",
    "    # and species_name=\"Drosophila melanogaster\" \n",
    "    def get_AT(self):\n",
    "            length=len(self.sequence)\n",
    "            a_count=self.sequence.count(\"A\")\n",
    "            t_count=self.sequence.count(\"T\")\n",
    "            g_count=self.sequence.count(\"G\")\n",
    "            c_count=self.sequence.count(\"C\")\n",
    "            at_content=(a_count+t_count)/length\n",
    "            return at_content\n",
    "    def\tcomplement(self):\n",
    "            replacement1=self.sequence.replace(\"A\",\"t\")\n",
    "            replacement2=replacement1.replace(\"T\",\"a\")\n",
    "            replacement3=replacement2.replace(\"C\",\"g\")\n",
    "            replacement4=replacement3.replace(\"G\",\"c\")\n",
    "            return\treplacement4.upper()\n",
    "d=DNARecord()\n",
    "print(\"Created a record for \"+d.gene_name+\" from \"+d.species_name) # getting the variables' values defined in the class\n",
    "print(\"AT is \"+str(d.get_AT())) # calling the method get_AT defined in the class\n",
    "print(\"Complementary strand is \"+d.complement()) # calling the method defined in the class complement"
   ]
  },
  {
   "cell_type": "markdown",
   "metadata": {},
   "source": [
    "## Constructor\n",
    "- method whose job is to set the variable in the object simultaneously\n",
    "- we define a constructor when we define the class\n",
    "- With the constructor, we can create new instances of objects with different properties."
   ]
  },
  {
   "cell_type": "code",
   "execution_count": 48,
   "metadata": {
    "collapsed": false
   },
   "outputs": [
    {
     "name": "stdout",
     "output_type": "stream",
     "text": [
      "Created a record for ABC1 from Drosophila melanogaster\n",
      "AT is 0.565217391304\n",
      "Complementary strand is TGACTAGCAATGCATGCTCAGTA\n",
      "\n",
      "Created a record for DEF2 from Drosophila somethingelse\n",
      "AT is 0.666666666667\n",
      "Complementary strand is TGACTA\n"
     ]
    }
   ],
   "source": [
    "from __future__ import division\n",
    "class DNARecord(object): # class className(parentClass)\n",
    "    #--> so here we are declaring class called DNARecord and inherit properties from object (parent class here)\n",
    "    # if you're using python3, you just jave to do `class DNARecord()`\n",
    "#     sequence=\"ACTGATCGTTACGTACGAGTCAT\" \n",
    "#     gene_name=\"ABC1\"\n",
    "#     species_name=\"Drosophila melanogaster\" -----> we replaced these three lines with the constructor below\n",
    "    \n",
    "    # constructor\n",
    "    def __init__(self, sequence,gene_name,species_name):\n",
    "        self.sequence=sequence\n",
    "        self.gene_name=gene_name\n",
    "        self.species_name=species_name\n",
    "    \n",
    "    def get_AT(self):\n",
    "            length=len(self.sequence)\n",
    "            a_count=self.sequence.count(\"A\")\n",
    "            t_count=self.sequence.count(\"T\")\n",
    "            g_count=self.sequence.count(\"G\")\n",
    "            c_count=self.sequence.count(\"C\")\n",
    "            at_content=(a_count+t_count)/length\n",
    "            return at_content\n",
    "    def\tcomplement(self):\n",
    "            replacement1=self.sequence.replace(\"A\",\"t\")\n",
    "            replacement2=replacement1.replace(\"T\",\"a\")\n",
    "            replacement3=replacement2.replace(\"C\",\"g\")\n",
    "            replacement4=replacement3.replace(\"G\",\"c\")\n",
    "            return\treplacement4.upper()\n",
    "d=DNARecord(\"ACTGATCGTTACGTACGAGTCAT\", \"ABC1\", \"Drosophila melanogaster\")\n",
    "print(\"Created a record for \"+d.gene_name+\" from \"+d.species_name) \n",
    "print(\"AT is \"+str(d.get_AT()))\n",
    "print(\"Complementary strand is \"+d.complement())\n",
    "\n",
    "print \n",
    "\n",
    "# change d --> with different properties\n",
    "d=DNARecord(\"ACTGAT\", \"DEF2\", \"Drosophila somethingelse\")\n",
    "print(\"Created a record for \"+d.gene_name+\" from \"+d.species_name) \n",
    "print(\"AT is \"+str(d.get_AT()))\n",
    "print(\"Complementary strand is \"+d.complement())\n",
    "# see that the results are different"
   ]
  },
  {
   "cell_type": "markdown",
   "metadata": {},
   "source": [
    "# >> try to understand the Animal class code in the slide!! "
   ]
  },
  {
   "cell_type": "markdown",
   "metadata": {},
   "source": [
    "# Inheritance"
   ]
  },
  {
   "cell_type": "code",
   "execution_count": 50,
   "metadata": {
    "collapsed": false
   },
   "outputs": [],
   "source": [
    "class\tShape(object):\t\n",
    "\t\t\t\t\"\"\"Makes\tshapes!\"\"\"\t\n",
    "\t\t\t\tdef\t__init__(self,\tnumber_of_sides):\t\n",
    "\t\t\t\t\t\t\t\tself.number_of_sides\t=\tnumber_of_sides\n",
    "class\tTriangle(Shape):\t\n",
    "\t\t\t\tdef\t__init__(self,\tside1,\tside2,\tside3):\t\n",
    "\t\t\t\t\t\t\t\tself.side1=side1\t\n",
    "\t\t\t\t\t\t\t\tself.side2=side2\t\n",
    "\t\t\t\t\t\t\t\tself.side3=side3\t\n",
    "                        \n",
    "class Shape (object): # this will be our superclass # remember! the convention for class name is to begin with a capital letter\n",
    "    \"\"\" Makes shapes\"\"\"\n",
    "    def __init__ (self, number_of_sides):\n",
    "        self.number_of_sides = number_of_sides\n",
    "\n",
    "class Triangle(Shape): # define class called Triangle that inheriting properties from Shape class\n",
    "    # or we say that Triangle is a subclass of the Shape superclass\n",
    "    def __init__(self, side1, side2, side3):\n",
    "        self.side1 = side1;\n",
    "        self.side2 = side2;\n",
    "        self.side3 = side3;\n",
    "        "
   ]
  },
  {
   "cell_type": "markdown",
   "metadata": {},
   "source": [
    "# super\n",
    "- super is used in accessing the properties from the superclass"
   ]
  },
  {
   "cell_type": "code",
   "execution_count": 58,
   "metadata": {
    "collapsed": false
   },
   "outputs": [
    {
     "name": "stdout",
     "output_type": "stream",
     "text": [
      "my car condition is new\n",
      "my car condition is like new\n"
     ]
    }
   ],
   "source": [
    "class Car(object):\n",
    "    condition = \"new\"\n",
    "    def __init__(self, model, color, mpg):\n",
    "        self.model = model\n",
    "        self.color = color\n",
    "        self.mpg = mpg\n",
    "    def display_car(self):\n",
    "        print(\"This is a %s %s with %s mpg.\" %(self.color,self.model,str(self.mpg)))\n",
    "    def drive_car(self):\n",
    "        self.condition = \"used\"\n",
    "        \n",
    "class ElectricCar(Car):\n",
    "    def __init__ (self, battery_type, model,color,mpg):\n",
    "        self.battery_type= battery_type\n",
    "        return super(ElectricCar,self).__init__(model, color,mpg)\n",
    "    def drive_car(self):\n",
    "        self.condition = \"like new\"\n",
    "\n",
    "my_car=ElectricCar(\"molten salt\", \"Prius\", \"Orange\", 100)\n",
    "print(\"my car condition is \" + my_car.condition)\n",
    "my_car.drive_car()\n",
    "print(\"my car condition is \" + my_car.condition)"
   ]
  },
  {
   "cell_type": "markdown",
   "metadata": {},
   "source": [
    "# __repr__()\n",
    "- how to represent the object\n",
    "- so you can call print(object)"
   ]
  },
  {
   "cell_type": "code",
   "execution_count": 66,
   "metadata": {
    "collapsed": false
   },
   "outputs": [
    {
     "name": "stdout",
     "output_type": "stream",
     "text": [
      "This is a Orange Prius with 100 mpg and batter type molten salt.\n",
      "This is a Orange Prius with 100 mpg.\n"
     ]
    }
   ],
   "source": [
    "class Car(object):\n",
    "    condition = \"new\"\n",
    "    def __init__(self, model, color, mpg):\n",
    "        self.model = model\n",
    "        self.color = color\n",
    "        self.mpg = mpg\n",
    "    def display_car(self):\n",
    "        print(\"This is a %s %s with %s mpg.\" %(self.color,self.model,str(self.mpg)))\n",
    "    def drive_car(self):\n",
    "        self.condition = \"used\"\n",
    "    def __repr__(self):\n",
    "        return (\"This is a %s %s with %s mpg.\" %(self.color,self.model,str(self.mpg)))\n",
    "        \n",
    "class ElectricCar(Car):\n",
    "    def __init__ (self, battery_type, model,color,mpg):\n",
    "        self.battery_type= battery_type\n",
    "        return super(ElectricCar,self).__init__(model, color,mpg)\n",
    "    def drive_car(self):\n",
    "        self.condition = \"like new\"\n",
    "    def __repr__(self):\n",
    "        return (\"This is a %s %s with %s mpg and batter type %s.\" %(self.color,self.model,str(self.mpg), self.battery_type))\n",
    "\n",
    "my_car = ElectricCar(\"molten salt\", \"Prius\", \"Orange\", 100)\n",
    "\n",
    "print my_car # this call the __repr__() under the hood\n",
    "my_car.display_car() # see that we didn't define display_car method in the ElectricCar class. \n",
    "                    #However, we inheritted the dirve_car method from its superclass which here is the Car class"
   ]
  },
  {
   "cell_type": "markdown",
   "metadata": {},
   "source": [
    "# polymorphism\n",
    "- Code that does different things depending on the type of data that is passed to it"
   ]
  }
 ],
 "metadata": {
  "kernelspec": {
   "display_name": "Python [Root]",
   "language": "python",
   "name": "Python [Root]"
  },
  "language_info": {
   "codemirror_mode": {
    "name": "ipython",
    "version": 2
   },
   "file_extension": ".py",
   "mimetype": "text/x-python",
   "name": "python",
   "nbconvert_exporter": "python",
   "pygments_lexer": "ipython2",
   "version": "2.7.12"
  }
 },
 "nbformat": 4,
 "nbformat_minor": 0
}
