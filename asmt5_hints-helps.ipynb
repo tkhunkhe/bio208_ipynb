{
 "cells": [
  {
   "cell_type": "markdown",
   "metadata": {},
   "source": [
    "# Question1"
   ]
  },
  {
   "cell_type": "markdown",
   "metadata": {},
   "source": [
    "## For the OUTPUT \n",
    "- I'm looking for the matched names for each problem separated by a blankline (or something to indicate that they are the answer for different problems)\n",
    "- ex:\n",
    "\n",
    "axre5321\n",
    "12312as5\n",
    "\n",
    "asasd12e\n",
    "asdedem3\n",
    "sdle1231"
   ]
  },
  {
   "cell_type": "markdown",
   "metadata": {},
   "source": [
    "## please note that for  c. !!!!!!!!!! \n",
    "c. Contain the letters d and e in that order specifically\n",
    "- we are looking for \"d\" and \"e\" do not have to be contiguous but \"d\" does have to come before \"e\" in the name.\n"
   ]
  },
  {
   "cell_type": "code",
   "execution_count": 5,
   "metadata": {
    "collapsed": false
   },
   "outputs": [
    {
     "ename": "TypeError",
     "evalue": "expected string or buffer",
     "output_type": "error",
     "traceback": [
      "\u001b[0;31m---------------------------------------------------------------------------\u001b[0m",
      "\u001b[0;31mTypeError\u001b[0m                                 Traceback (most recent call last)",
      "\u001b[0;32m<ipython-input-5-379545e4be0b>\u001b[0m in \u001b[0;36m<module>\u001b[0;34m()\u001b[0m\n\u001b[1;32m      3\u001b[0m \u001b[0mthis_pattern\u001b[0m \u001b[0;34m=\u001b[0m \u001b[0;34mr\"2\"\u001b[0m\u001b[0;34m\u001b[0m\u001b[0m\n\u001b[1;32m      4\u001b[0m \u001b[0;34m\u001b[0m\u001b[0m\n\u001b[0;32m----> 5\u001b[0;31m \u001b[0;32mif\u001b[0m \u001b[0;34m(\u001b[0m\u001b[0mre\u001b[0m\u001b[0;34m.\u001b[0m\u001b[0msearch\u001b[0m\u001b[0;34m(\u001b[0m\u001b[0mthis_pattern\u001b[0m\u001b[0;34m,\u001b[0m \u001b[0mthis_list\u001b[0m\u001b[0;34m)\u001b[0m\u001b[0;34m)\u001b[0m\u001b[0;34m:\u001b[0m\u001b[0;34m\u001b[0m\u001b[0m\n\u001b[0m\u001b[1;32m      6\u001b[0m     \u001b[0;32mprint\u001b[0m \u001b[0mthis_list\u001b[0m\u001b[0;34m\u001b[0m\u001b[0m\n",
      "\u001b[0;32m/Users/tkhunkhe/anaconda2/lib/python2.7/re.pyc\u001b[0m in \u001b[0;36msearch\u001b[0;34m(pattern, string, flags)\u001b[0m\n\u001b[1;32m    144\u001b[0m     \"\"\"Scan through string looking for a match to the pattern, returning\n\u001b[1;32m    145\u001b[0m     a match object, or None if no match was found.\"\"\"\n\u001b[0;32m--> 146\u001b[0;31m     \u001b[0;32mreturn\u001b[0m \u001b[0m_compile\u001b[0m\u001b[0;34m(\u001b[0m\u001b[0mpattern\u001b[0m\u001b[0;34m,\u001b[0m \u001b[0mflags\u001b[0m\u001b[0;34m)\u001b[0m\u001b[0;34m.\u001b[0m\u001b[0msearch\u001b[0m\u001b[0;34m(\u001b[0m\u001b[0mstring\u001b[0m\u001b[0;34m)\u001b[0m\u001b[0;34m\u001b[0m\u001b[0m\n\u001b[0m\u001b[1;32m    147\u001b[0m \u001b[0;34m\u001b[0m\u001b[0m\n\u001b[1;32m    148\u001b[0m \u001b[0;32mdef\u001b[0m \u001b[0msub\u001b[0m\u001b[0;34m(\u001b[0m\u001b[0mpattern\u001b[0m\u001b[0;34m,\u001b[0m \u001b[0mrepl\u001b[0m\u001b[0;34m,\u001b[0m \u001b[0mstring\u001b[0m\u001b[0;34m,\u001b[0m \u001b[0mcount\u001b[0m\u001b[0;34m=\u001b[0m\u001b[0;36m0\u001b[0m\u001b[0;34m,\u001b[0m \u001b[0mflags\u001b[0m\u001b[0;34m=\u001b[0m\u001b[0;36m0\u001b[0m\u001b[0;34m)\u001b[0m\u001b[0;34m:\u001b[0m\u001b[0;34m\u001b[0m\u001b[0m\n",
      "\u001b[0;31mTypeError\u001b[0m: expected string or buffer"
     ]
    }
   ],
   "source": [
    "import re\n",
    "this_list = [\"x1234yacx\", \"yax234\", \"hmmmm\"]\n",
    "this_pattern = r\"2\"\n",
    "\n",
    "if (re.search(this_pattern, this_list)):\n",
    "    print this_list"
   ]
  },
  {
   "cell_type": "markdown",
   "metadata": {},
   "source": [
    "## Do you know why it gave an error?\n",
    "...\n",
    "...\n",
    "...\n",
    "#### because you passed in a 'list' to the search funtion\n",
    "#### this function is not smart enough to understand a list, it wants only a string!!!\n",
    "- but hey, each element in this list is a string!!!\n",
    "- so we could iterate through the list and do the search on each string\n",
    "\n",
    "- problem solved! :D"
   ]
  },
  {
   "cell_type": "code",
   "execution_count": 9,
   "metadata": {
    "collapsed": false
   },
   "outputs": [
    {
     "name": "stdout",
     "output_type": "stream",
     "text": [
      "detected!\n"
     ]
    }
   ],
   "source": [
    "pattern1 = r\"y.*x\"\n",
    "if (re.search(pattern1, \"eajsya12x\")): # see ya12x\n",
    "    print \"detected!\"\n"
   ]
  },
  {
   "cell_type": "code",
   "execution_count": 10,
   "metadata": {
    "collapsed": false
   },
   "outputs": [
    {
     "name": "stdout",
     "output_type": "stream",
     "text": [
      "detected!\n"
     ]
    }
   ],
   "source": [
    "if (re.search(pattern1, \"eajsyx\")): # see yx\n",
    "    print \"detected!\""
   ]
  },
  {
   "cell_type": "markdown",
   "metadata": {},
   "source": [
    "##   .  (dot) means any character\n",
    "## * is quantifier, = 0 or more\n",
    "### review other quantifiers by looking at the lecture slides"
   ]
  },
  {
   "cell_type": "markdown",
   "metadata": {},
   "source": [
    "# Question 2"
   ]
  },
  {
   "cell_type": "markdown",
   "metadata": {},
   "source": [
    "# ANT*TAAT\n",
    "- the * is just for telling you where the cutting site is in this pattern\n",
    "- this enzyme should not recognize ACTCCCTAAT\n",
    "- it should recognize ACTTAAT or ATTTAAT or AATTAAT or AGTTAAT in your dnastring"
   ]
  },
  {
   "cell_type": "markdown",
   "metadata": {},
   "source": [
    "## For grading!!\n",
    "- I'm looking for efficiency in finding the indicies of cutting sites and the efficiency in computing the length of each fragment\n",
    "- hint: make use of list and for loop, and review findall/finditer"
   ]
  },
  {
   "cell_type": "code",
   "execution_count": null,
   "metadata": {
    "collapsed": true
   },
   "outputs": [],
   "source": []
  }
 ],
 "metadata": {
  "anaconda-cloud": {},
  "kernelspec": {
   "display_name": "Python [Root]",
   "language": "python",
   "name": "Python [Root]"
  },
  "language_info": {
   "codemirror_mode": {
    "name": "ipython",
    "version": 2
   },
   "file_extension": ".py",
   "mimetype": "text/x-python",
   "name": "python",
   "nbconvert_exporter": "python",
   "pygments_lexer": "ipython2",
   "version": "2.7.12"
  }
 },
 "nbformat": 4,
 "nbformat_minor": 0
}
